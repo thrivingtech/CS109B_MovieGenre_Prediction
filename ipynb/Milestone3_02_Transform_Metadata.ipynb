{
 "cells": [
  {
   "cell_type": "code",
   "execution_count": 7,
   "metadata": {
    "collapsed": false,
    "deletable": true,
    "editable": true
   },
   "outputs": [],
   "source": [
    "#library('caTools')\n",
    "library('caret')"
   ]
  },
  {
   "cell_type": "code",
   "execution_count": 8,
   "metadata": {
    "collapsed": false,
    "deletable": true,
    "editable": true
   },
   "outputs": [
    {
     "name": "stdout",
     "output_type": "stream",
     "text": [
      "'data.frame':\t5695 obs. of  55 variables:\n",
      " $ original_language: Factor w/ 63 levels \"\",\"ar\",\"bg\",\"bn\",..: 12 12 12 12 12 12 12 12 12 12 ...\n",
      " $ popularity       : num  42.68 20.11 7.47 6.15 4.83 ...\n",
      " $ release_date     : Factor w/ 1666 levels \"1/1/2011\",\"1/1/2012\",..: 48 764 560 998 128 587 978 1655 729 1255 ...\n",
      " $ vote_average     : num  6.8 6 4.7 0 5.4 5.5 6.5 0 7.1 0 ...\n",
      " $ tmdb_genre       : Factor w/ 1262 levels \"[Action, Adventure, Animation, Comedy, Crime]\",..: 801 790 805 234 801 569 805 805 177 34 ...\n",
      " $ revenue          : int  269961806 51998634 0 0 0 24209725 0 0 0 0 ...\n",
      " $ runtime          : Factor w/ 195 levels \"0\",\"1\",\"10\",\"100\",..: 22 7 6 1 191 54 185 1 182 1 ...\n",
      " $ Rating           : num  7.4 7 4.5 0 4 6.5 6.2 0 6.5 0 ...\n",
      " $ Votes            : num  110172 32733 9528 0 4457 ...\n",
      " $ Certificates     : Factor w/ 2058 levels \"\",\"Argentina:13\",..: 201 213 63 1 123 224 1019 1 1705 1 ...\n",
      " $ R                : num  49 8 22 0 21 161 42 21 193 31 ...\n",
      " $ G                : num  15 18 48 1 9 160 34 18 190 32 ...\n",
      " $ B                : num  14 30 70 0 6 141 55 18 193 30 ...\n",
      " $ woman            : int  0 0 0 0 1 0 0 0 0 0 ...\n",
      " $ director         : int  0 0 0 0 1 0 0 0 0 0 ...\n",
      " $ murder           : int  0 0 0 0 0 0 0 0 0 0 ...\n",
      " $ short            : int  0 0 0 0 0 0 0 0 0 0 ...\n",
      " $ film             : int  0 0 0 0 0 0 0 0 0 0 ...\n",
      " $ relationship     : int  0 0 0 0 0 0 0 0 0 0 ...\n",
      " $ novel            : int  0 0 0 0 0 0 0 0 0 0 ...\n",
      " $ alien            : int  0 0 0 1 0 0 0 0 0 0 ...\n",
      " $ horror           : int  0 0 0 0 0 0 0 0 0 1 ...\n",
      " $ based            : int  0 0 0 0 0 0 0 0 0 0 ...\n",
      " $ space            : int  0 1 0 1 0 0 0 0 0 0 ...\n",
      " $ war              : int  0 0 0 0 0 0 0 0 0 0 ...\n",
      " $ death            : int  0 0 0 0 0 0 0 0 0 0 ...\n",
      " $ zombie           : int  0 0 0 0 0 0 0 0 0 0 ...\n",
      " $ ghost            : int  0 0 0 0 0 0 0 0 0 0 ...\n",
      " $ police           : int  0 0 0 0 0 0 0 0 0 0 ...\n",
      " $ movie            : int  0 0 0 0 0 0 0 0 0 0 ...\n",
      " $ nudity           : int  0 0 0 0 0 1 0 0 0 0 ...\n",
      " $ love             : int  0 0 0 0 0 0 0 0 0 0 ...\n",
      " $ time             : int  0 0 0 0 0 0 0 0 0 0 ...\n",
      " $ sequel           : int  0 0 1 0 0 0 0 0 0 0 ...\n",
      " $ dystopia         : int  0 0 0 0 0 0 0 0 0 0 ...\n",
      " $ killer           : int  0 0 0 0 0 0 0 0 0 0 ...\n",
      " $ comic            : int  0 0 0 0 0 0 0 0 0 0 ...\n",
      " $ drama            : int  0 0 0 0 0 0 0 0 0 0 ...\n",
      " $ biography        : int  0 0 0 0 0 0 0 0 0 0 ...\n",
      " $ monster          : int  0 0 0 0 0 0 0 0 0 1 ...\n",
      " $ violence         : int  1 0 0 0 1 1 0 0 0 0 ...\n",
      " $ family           : int  0 0 0 0 0 0 0 0 0 0 ...\n",
      " $ female           : int  0 0 0 0 0 0 0 0 0 0 ...\n",
      " $ thriller         : int  0 0 0 0 0 0 0 0 0 0 ...\n",
      " $ gay              : int  0 0 0 0 0 0 0 0 0 0 ...\n",
      " $ book             : int  0 0 0 0 0 0 0 0 0 0 ...\n",
      " $ post             : int  0 0 0 0 0 0 0 0 0 0 ...\n",
      " $ supernatural     : int  0 0 0 0 1 0 0 0 0 0 ...\n",
      " $ future           : int  0 0 0 0 0 0 0 0 0 0 ...\n",
      " $ suspense         : int  0 0 1 0 0 0 0 0 0 0 ...\n",
      " $ found            : int  0 0 0 0 0 0 0 0 0 0 ...\n",
      " $ superhero        : int  0 0 0 0 0 0 0 0 0 0 ...\n",
      " $ footage          : int  0 0 0 0 0 0 0 0 0 0 ...\n",
      " $ brightness_level : Factor w/ 3 levels \"High\",\"Low\",\"Medium\": 2 2 2 2 2 3 2 2 1 2 ...\n",
      " $ genre_category   : Factor w/ 8 levels \"AcAdDr\",\"AcCrTh\",..: 2 2 5 2 2 3 5 5 2 2 ...\n",
      "\n",
      "Considering movies till 2016 only\n",
      "'data.frame':\t4498 obs. of  56 variables:\n",
      " $ original_language: chr  \"en\" \"en\" \"en\" \"en\" ...\n",
      " $ popularity       : num  15.69 6.73 6.06 5.79 5.62 ...\n",
      " $ release_date     : Factor w/ 1666 levels \"1/1/2011\",\"1/1/2012\",..: 389 493 1009 1465 1201 1223 1314 203 1254 977 ...\n",
      " $ vote_average     : num  5 6.5 6.8 6.7 6.2 6 6.2 5.8 6.3 6.1 ...\n",
      " $ tmdb_genre       : Factor w/ 1262 levels \"[Action, Adventure, Animation, Comedy, Crime]\",..: 180 782 805 466 765 179 801 801 1170 545 ...\n",
      " $ revenue          : int  81093313 0 320170008 156144761 119100758 118587880 44107032 81705746 1333124 3295624 ...\n",
      " $ runtime          : num  186 180 41 182 180 9 175 194 22 192 ...\n",
      " $ Rating           : num  5.9 6.8 7.4 7.2 6.4 6 6.4 6.1 6.3 6.1 ...\n",
      " $ Votes            : num  35400 26566 132778 113898 74658 ...\n",
      " $ Certificates     : Factor w/ 2058 levels \"\",\"Argentina:13\",..: 214 512 245 241 9 329 202 292 904 118 ...\n",
      " $ R                : num  30 218 32 5 8 30 197 63 4 21 ...\n",
      " $ G                : num  35 214 58 7 63 32 216 48 21 23 ...\n",
      " $ B                : num  45 213 69 10 92 35 211 30 60 23 ...\n",
      " $ woman            : int  1 0 0 0 1 0 0 0 0 0 ...\n",
      " $ director         : int  1 0 0 0 0 0 0 0 0 0 ...\n",
      " $ murder           : int  0 1 0 1 0 1 0 0 0 0 ...\n",
      " $ short            : int  0 0 0 0 0 0 1 0 0 0 ...\n",
      " $ film             : int  0 0 0 0 0 0 0 0 0 0 ...\n",
      " $ relationship     : int  0 1 0 0 0 0 0 0 0 0 ...\n",
      " $ novel            : int  0 0 0 0 0 0 0 0 0 0 ...\n",
      " $ alien            : int  0 0 0 0 0 0 0 0 0 0 ...\n",
      " $ horror           : int  0 1 0 0 1 0 0 0 0 0 ...\n",
      " $ based            : int  0 0 0 0 0 0 1 0 0 0 ...\n",
      " $ space            : int  0 0 0 0 0 0 0 0 0 0 ...\n",
      " $ war              : int  1 0 0 0 0 0 0 0 0 0 ...\n",
      " $ death            : int  0 1 0 0 0 0 0 0 0 0 ...\n",
      " $ zombie           : int  0 0 0 0 0 0 0 0 0 0 ...\n",
      " $ ghost            : int  0 0 0 0 0 0 1 1 0 0 ...\n",
      " $ police           : int  0 0 0 0 0 0 0 0 0 0 ...\n",
      " $ movie            : int  0 0 0 0 0 0 0 0 0 0 ...\n",
      " $ nudity           : int  0 1 0 0 0 0 0 0 0 0 ...\n",
      " $ love             : int  0 0 0 0 0 0 0 0 0 0 ...\n",
      " $ time             : int  0 0 0 0 0 0 0 0 0 0 ...\n",
      " $ sequel           : int  1 0 0 0 0 1 0 0 0 0 ...\n",
      " $ dystopia         : int  0 0 0 0 0 1 0 0 0 0 ...\n",
      " $ killer           : int  0 0 0 0 0 0 0 0 0 0 ...\n",
      " $ comic            : int  0 0 0 0 0 0 0 0 0 0 ...\n",
      " $ drama            : int  0 0 0 0 0 0 0 0 0 0 ...\n",
      " $ biography        : int  0 0 0 0 0 0 0 0 0 0 ...\n",
      " $ monster          : int  0 0 0 0 0 0 0 0 0 0 ...\n",
      " $ violence         : int  0 0 0 1 0 0 0 0 0 0 ...\n",
      " $ family           : int  0 0 0 0 0 0 0 0 0 0 ...\n",
      " $ female           : int  0 1 0 0 0 0 0 0 0 0 ...\n",
      " $ thriller         : int  0 0 0 0 0 0 0 0 0 0 ...\n",
      " $ gay              : int  0 0 0 0 0 0 0 0 0 0 ...\n",
      " $ book             : int  0 0 0 0 0 0 0 0 0 0 ...\n",
      " $ post             : int  0 0 0 0 0 0 0 0 0 0 ...\n",
      " $ supernatural     : int  0 1 0 0 0 0 0 1 0 0 ...\n",
      " $ future           : int  0 0 0 0 0 0 0 0 0 0 ...\n",
      " $ suspense         : int  0 0 0 0 0 0 0 0 0 0 ...\n",
      " $ found            : int  0 0 0 0 0 0 0 0 0 0 ...\n",
      " $ superhero        : int  0 0 0 0 0 0 0 0 0 0 ...\n",
      " $ footage          : int  0 0 0 0 0 0 0 0 0 0 ...\n",
      " $ brightness_level : num  2 1 2 2 2 2 1 2 2 2 ...\n",
      " $ genre_category   : Factor w/ 8 levels \"AcAdDr\",\"AcCrTh\",..: 2 5 5 2 2 2 2 2 2 2 ...\n",
      " $ release_year     : num  2016 2016 2016 2016 2016 ...\n"
     ]
    }
   ],
   "source": [
    "full_data <- read.csv(\"movies_allfeaturesfinal.csv\")\n",
    "# Select only required columns\n",
    "columns_needed <- c('original_language', 'popularity', 'release_date', 'vote_average', 'tmdb_genre', 'revenue', \n",
    "                    'runtime', 'Rating','Votes', 'Certificates', 'R', 'G', 'B', 'woman', 'director', 'murder', \n",
    "                    'short', 'film', 'relationship', 'novel', 'alien', 'horror', 'based', 'space', 'war', \n",
    "                    'death', 'zombie', 'ghost', 'police', 'movie', 'nudity', 'love', 'time', 'sequel', \n",
    "                    'dystopia', 'killer', 'comic', 'drama', 'biography', 'monster', 'violence', 'family', \n",
    "                    'female', 'thriller', 'gay', 'book', 'post', 'supernatural', 'future', 'suspense', 'found', \n",
    "                    'superhero', 'footage', 'brightness_level', 'genre_category')\n",
    "data <- full_data[columns_needed]\n",
    "#data\n",
    "str(data)\n",
    "\n",
    "#Convert runtime from charecter type to Integer\n",
    "data$runtime <- as.numeric(data$runtime)\n",
    "data$brightness_level <- as.numeric(data$brightness_level)\n",
    "\n",
    "# Convert original language from factor to charecter\n",
    "data$original_language <- as.character(data$original_language)\n",
    "\n",
    "\n",
    "#Convert release date from factor to date and then extract year out of that and convert to integer\n",
    "data$release_year <- as.numeric(format(as.Date(data$release_date, format = \"%m/%d/%Y\"), \"%Y\"))\n",
    "# Filter out movies released starting 2017\n",
    "data <- data[data$release_year < 2017, ]\n",
    "cat(\"\\nConsidering movies till 2016 only\\n\")\n",
    "str(data)\n",
    "\n",
    "data$genre <- data$genre_category\n",
    "\n",
    "# Final list of columns, dropping unwanted columns used in filtering data\n",
    "final_columns <- c('genre', 'popularity', 'release_year', 'vote_average', 'revenue', 'runtime', 'Rating', 'Votes',\n",
    "                   'woman', 'director', 'murder', 'short', 'film', 'relationship', 'novel', 'alien', \n",
    "                   'horror', 'based', 'space', 'war', 'death', 'zombie', 'ghost', 'police', 'movie', 'nudity', \n",
    "                   'love', 'time', 'sequel', 'dystopia', 'killer', 'comic', 'drama', 'biography', 'monster', \n",
    "                   'violence', 'family', 'female', 'thriller', 'gay', 'book', 'post', 'supernatural', 'future', \n",
    "                   'suspense', 'found', 'superhero', 'footage', 'brightness_level')"
   ]
  },
  {
   "cell_type": "code",
   "execution_count": 9,
   "metadata": {
    "collapsed": false,
    "deletable": true,
    "editable": true
   },
   "outputs": [
    {
     "data": {
      "text/plain": [
       "\n",
       "AcAdDr AcCrTh AcThMi CoFaDr     Ho     Ot RoCoDa   ScFa \n",
       "   408   1512    609     46    516     21   1108    278 "
      ]
     },
     "metadata": {},
     "output_type": "display_data"
    }
   ],
   "source": [
    "table(data$genre)"
   ]
  },
  {
   "cell_type": "code",
   "execution_count": 10,
   "metadata": {
    "collapsed": false,
    "deletable": true,
    "editable": true
   },
   "outputs": [],
   "source": [
    "# Creating a dataset of required columns only\n",
    "unfiltered_data <- data[final_columns]\n",
    "#str(unfiltered_data)\n",
    "\n",
    "set.seed(101) # Set Seed so that same sample can be reproduced in future also\n",
    "# Now Selecting 75% of data as sample from total 'n' rows of the data  \n",
    "#uf_sample <- sample.int(n = nrow(unfiltered_data), size = floor(.75*nrow(unfiltered_data)), replace = F)\n",
    "#uf_sample <- sample.split(unfiltered_data, SplitRatio = 3/4)\n",
    "\n",
    "# Creating Train and Test datasets\n",
    "uf_sample <- createDataPartition(y=unfiltered_data$genre, p=0.75, list=FALSE)\n",
    "unfiltered_train_data <- unfiltered_data[uf_sample, ]\n",
    "unfiltered_test_data  <- unfiltered_data[-uf_sample, ]\n",
    "\n",
    "#unfiltered_train_data <- unfiltered_data[sample(nrow(unfiltered_data), as.integer(nrow(unfiltered_data)*.8)), ]\n",
    "#unfiltered_test_data <- unfiltered_data[!duplicated(rbind(unfiltered_train_data, unfiltered_data))[-seq_len(nrow(unfiltered_train_data))], ]\n",
    "\n",
    "# Writing data to files to distribute between teams\n",
    "write.csv(unfiltered_train_data, file = \"unfiltered_train_data.csv\",row.names=FALSE)\n",
    "write.csv(unfiltered_test_data, file = \"unfiltered_test_data.csv\",row.names=FALSE)"
   ]
  },
  {
   "cell_type": "code",
   "execution_count": 11,
   "metadata": {
    "collapsed": false,
    "deletable": true,
    "editable": true
   },
   "outputs": [
    {
     "data": {
      "text/plain": [
       "\n",
       "AcAdDr AcCrTh AcThMi CoFaDr     Ho     Ot RoCoDa   ScFa \n",
       "   306   1134    457     35    387     16    831    209 "
      ]
     },
     "metadata": {},
     "output_type": "display_data"
    }
   ],
   "source": [
    "table(unfiltered_train_data$genre)"
   ]
  },
  {
   "cell_type": "code",
   "execution_count": 12,
   "metadata": {
    "collapsed": false,
    "deletable": true,
    "editable": true,
    "scrolled": false
   },
   "outputs": [
    {
     "name": "stdout",
     "output_type": "stream",
     "text": [
      "\n",
      "After filtering English Movies only\n",
      "\n",
      "Considering movies with atleast 60 min runtime\n"
     ]
    },
    {
     "data": {
      "text/plain": [
       "\n",
       "AcAdDr AcCrTh AcThMi CoFaDr     Ho     Ot RoCoDa   ScFa \n",
       "   128    738    285     27    313      8    441    148 "
      ]
     },
     "metadata": {},
     "output_type": "display_data"
    },
    {
     "data": {
      "text/plain": [
       "\n",
       "AcAdDr AcCrTh AcThMi CoFaDr     Ho     Ot RoCoDa   ScFa \n",
       "    96    554    214     21    235      6    331    111 "
      ]
     },
     "metadata": {},
     "output_type": "display_data"
    }
   ],
   "source": [
    "# Filtering Englis movies only \n",
    "data <- data[data$original_language == 'en', ]\n",
    "cat(\"\\nAfter filtering English Movies only\\n\")\n",
    "#str(data)\n",
    "\n",
    "# Filterout movies whose runtime is less than 60 mins\n",
    "data <- data[data$runtime >= 60, ]\n",
    "cat(\"\\nConsidering movies with atleast 60 min runtime\\n\")\n",
    "#str(data)\n",
    "\n",
    "table(data$genre)\n",
    "\n",
    "# Select only needed columns\n",
    "filtered_data <- data[final_columns]\n",
    "#str(filtered_data)\n",
    "\n",
    "set.seed(101) # Set Seed so that same sample can be reproduced in future also\n",
    "# Now Selecting 75% of data as sample from total 'n' rows of the data  \n",
    "#f_sample <- sample.int(n = nrow(filtered_data), size = floor(.75*nrow(filtered_data)), replace = F)\n",
    "#f_sample <- sample.split(filtered_data, SplitRatio = 3/4)\n",
    "\n",
    "# Creating Train and Test datasets\n",
    "f_sample <- createDataPartition(y=filtered_data$genre, p=0.75, list=FALSE)\n",
    "filtered_train_data <- filtered_data[f_sample, ]\n",
    "filtered_test_data  <- filtered_data[-f_sample, ]\n",
    "\n",
    "#filtered_train_data <- filtered_data[sample(nrow(filtered_data), as.integer(nrow(filtered_data)*.8)), ]\n",
    "#filtered_test_data <- filtered_data[!duplicated(rbind(filtered_train_data, filtered_data))[-seq_len(nrow(filtered_train_data))], ]\n",
    "\n",
    "# Writing data to files to distribute between teams\n",
    "write.csv(filtered_train_data, file = \"filtered_train_data.csv\",row.names=FALSE)\n",
    "write.csv(filtered_test_data, file = \"filtered_test_data.csv\",row.names=FALSE)\n",
    "\n",
    "table(filtered_train_data$genre)\n",
    "#all_cert <- unlist(strsplit(as.character(data$Certificates), ','))\n",
    "#str(all_cert)\n",
    "#usa_cert <- temp[grepl(\"^USA:*\", temp)]\n",
    "#str(usa_cert)\n",
    "#data$Certificates <- (colsplit(usa_cert, split = ':', names = c('Country','Cert','x','y'))[,2])"
   ]
  },
  {
   "cell_type": "code",
   "execution_count": null,
   "metadata": {
    "collapsed": false,
    "deletable": true,
    "editable": true
   },
   "outputs": [],
   "source": []
  }
 ],
 "metadata": {
  "anaconda-cloud": {},
  "kernelspec": {
   "display_name": "Python 2",
   "language": "python",
   "name": "python2"
  },
  "language_info": {
   "codemirror_mode": {
    "name": "ipython",
    "version": 2
   },
   "file_extension": ".py",
   "mimetype": "text/x-python",
   "name": "python",
   "nbconvert_exporter": "python",
   "pygments_lexer": "ipython2",
   "version": "2.7.12"
  }
 },
 "nbformat": 4,
 "nbformat_minor": 1
}
