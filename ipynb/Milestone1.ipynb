{
 "cells": [
  {
   "cell_type": "markdown",
   "metadata": {
    "deletable": true,
    "editable": true
   },
   "source": [
    "## Code to access the genre and movie poster path of your favourite movie\n",
    "\n"
   ]
  },
  {
   "cell_type": "markdown",
   "metadata": {
    "deletable": true,
    "editable": true
   },
   "source": [
    " \n",
    "### Movie genre of our favourite movie from IMDB"
   ]
  },
  {
   "cell_type": "code",
   "execution_count": 201,
   "metadata": {
    "collapsed": false,
    "deletable": true,
    "editable": true,
    "scrolled": true
   },
   "outputs": [],
   "source": [
    "from  imdb import IMDb\n",
    "import numpy as np\n",
    "import pandas as pd\n",
    "#import http.client\n",
    "import json\n",
    "from pandas.io.json import json_normalize\n",
    "\n",
    "import math\n"
   ]
  },
  {
   "cell_type": "code",
   "execution_count": 2,
   "metadata": {
    "collapsed": false,
    "deletable": true,
    "editable": true
   },
   "outputs": [
    {
     "data": {
      "text/plain": [
       "[<Movie id:0770828[http] title:_Man of Steel (2013)_>,\n",
       " <Movie id:2953982[http] title:_\"Man of Steel (2013) (TV Episode)  - Season 1 | Episode 116  - Maltin on Movies\" (2010)_>,\n",
       " <Movie id:2999682[http] title:_\"Man of Steel (2013) (TV Episode)  - Season 5 | Episode 11  - The Angry Joe Show\" (2009)_>,\n",
       " <Movie id:3037254[http] title:_\"Man of Steel (2013) (TV Episode)  - Season 4 | Episode 6  - Midnight Movie Review\" (2010)_>,\n",
       " <Movie id:5809454[http] title:_\"Man of Steel (2013) (TV Episode) - Chrono-critique\" (2012) (mini)_>,\n",
       " <Movie id:2996074[http] title:_\"Man of Steel (2013) (TV Episode)  - Season 3 | Episode 11  - Half in the Bag\" (2011)_>,\n",
       " <Movie id:2986326[http] title:_\"Man of Steel (2013) (TV Episode)  - Season 1 | Episode 4  - Doogtoons Quickies\" (2013)_>,\n",
       " <Movie id:2990176[http] title:_\"Man of Steel (2013) (TV Episode)  - Season 6 | Episode 4  - Bum Reviews\" (2008)_>,\n",
       " <Movie id:3012562[http] title:_\"How to Fix Man of Steel 2 (2013) (TV Episode)  - Season 2 | Episode 27  - The Screen Junkies Show\" (2011)_>,\n",
       " <Movie id:5005096[http] title:_\"Man of Steel 2 Pitches (Feat. Max Landis!) (2015) (TV Episode)  - Season 1 | Episode 47  - Screen Junkies Movie Fights\" (2014)_>,\n",
       " <Movie id:3421070[http] title:_\"Man of Steel 2 vs. Justice League (2013) (TV Episode)  - Season 2 | Episode 42  - It's a Wrap\" (2012)_>,\n",
       " <Movie id:5037256[http] title:_\"Dream Sequels: Max Landis' Man of Steel 2 (2015) (TV Episode)  - Season 5 | Episode 81  - The Screen Junkies Show\" (2011)_>,\n",
       " <Movie id:5216206[http] title:_\"Q N' A with Mikki and Shay\" Superman Man of Steel Interview: Comic Con International 2013 (2013)_>,\n",
       " <Movie id:5115492[http] title:_\"Best-of 2013 part. 2: Man of Steel, World War Z, Monstres Academy... (2014) (TV Episode)  - Season 5 | Episode 9  - Faux Raccord\" (2010)_>,\n",
       " <Movie id:5958030[http] title:_\"Man of Steel 2 in Development, Suicide Squad Box Office Success (2016) (TV Episode)  - Season 1 | Episode 69  - Collider Heroes\" (2015)_>,\n",
       " <Movie id:5664680[http] title:_\"Will There Be a Man of Steel 2? Animated \"Killing Joke\" Preview (2016) (TV Episode)  - Season 1 | Episode 52  - Collider Heroes\" (2015)_>,\n",
       " <Movie id:2911220[http] title:_Man of Steel 'Soldier of Steel' (2013) (VG)_>,\n",
       " <Movie id:2754626[http] title:_Man of Steel Song (2013)_>,\n",
       " <Movie id:2557780[http] title:_Little Man of Steel (2013)_>,\n",
       " <Movie id:3327446[http] title:_Man of Steel: The Yahoo Live Fan Event (2013)_>]"
      ]
     },
     "execution_count": 2,
     "metadata": {},
     "output_type": "execute_result"
    }
   ],
   "source": [
    "#IMDB\n",
    "\n",
    "ia = IMDb()\n",
    "#search the imdb movie databse to get the meta data of my favourite movie\n",
    "search_MS = ia.search_movie('Man of Steel (2013)')\n",
    "search_MS"
   ]
  },
  {
   "cell_type": "code",
   "execution_count": 3,
   "metadata": {
    "collapsed": false,
    "deletable": true,
    "editable": true
   },
   "outputs": [
    {
     "name": "stdout",
     "output_type": "stream",
     "text": [
      " The genre of Man of Steel movie from IMDB is :  [u'Action', u'Adventure', u'Fantasy', u'Sci-Fi']\n"
     ]
    }
   ],
   "source": [
    "#Get the movie id of  favourite movie from the search\n",
    "Fav_movie = ia.get_movie('0770828')\n",
    "\n",
    "#Print the genre of Man of Steel movie from IMDB\n",
    "print( \" The genre of Man of Steel movie from IMDB is : \") ,Fav_movie['genre']"
   ]
  },
  {
   "cell_type": "code",
   "execution_count": 4,
   "metadata": {
    "collapsed": false,
    "deletable": true,
    "editable": true
   },
   "outputs": [
    {
     "name": "stdout",
     "output_type": "stream",
     "text": [
      " The poster path of our favourite movie: https://images-na.ssl-images-amazon.com/images/M/MV5BMjI5OTYzNjI0Ml5BMl5BanBnXkFtZTcwMzM1NDA1OQ@@._V1._SX96_SY140_.jpg\n"
     ]
    }
   ],
   "source": [
    "print \" The poster path of our favourite movie:\" ,Fav_movie['cover url']"
   ]
  },
  {
   "cell_type": "markdown",
   "metadata": {
    "deletable": true,
    "editable": true
   },
   "source": [
    "# Movie genre of our favourite movie from TMDB"
   ]
  },
  {
   "cell_type": "code",
   "execution_count": 5,
   "metadata": {
    "collapsed": true,
    "deletable": true,
    "editable": true
   },
   "outputs": [],
   "source": [
    "import tmdbsimple as tmdb\n",
    "tmdb.API_KEY = '086e1765d64f7c65a62924f5a9eda3e6'"
   ]
  },
  {
   "cell_type": "code",
   "execution_count": 6,
   "metadata": {
    "collapsed": false,
    "deletable": true,
    "editable": true
   },
   "outputs": [
    {
     "name": "stdout",
     "output_type": "stream",
     "text": [
      "(u'Man of Steel', 49521, u'2013-06-12')\n",
      "(u'Man of Steel', 334166, u'1967-03-25')\n",
      "(u'Untitled Man of Steel Sequel', 416648, u'2020-12-31')\n",
      "(u'Batman v Superman: Dawn of Justice', 209112, u'2016-03-23')\n",
      "(u'Hands of Steel', 67221, u'1986-03-26')\n",
      "(u'Man with the Golden Pistol', 138138, u'1965-12-07')\n"
     ]
    }
   ],
   "source": [
    "search = tmdb.Search()\n",
    "response = search.movie(query ='Man of Steel')\n",
    "\n",
    "for s in search.results:\n",
    "    print(s['title'],s['id'] ,s['release_date'])\n"
   ]
  },
  {
   "cell_type": "code",
   "execution_count": 7,
   "metadata": {
    "collapsed": false,
    "deletable": true,
    "editable": true
   },
   "outputs": [
    {
     "name": "stdout",
     "output_type": "stream",
     "text": [
      " The genre of Fav movie from TMDB is :  [u'Action', u'Adventure', u'Fantasy', u'Science Fiction']\n"
     ]
    }
   ],
   "source": [
    "#Now  considering the movie id from above search\n",
    "movie_s = tmdb.Movies(49521)\n",
    "response = movie_s.info()\n",
    "genre=[]\n",
    "for j in range(len(movie_s.genres)):\n",
    "    genre.append(movie_s.genres[j]['name'] )\n",
    "#Print the genre of Fav movie from TMDB\n",
    "print( \" The genre of Fav movie from TMDB is : \") ,genre\n"
   ]
  },
  {
   "cell_type": "code",
   "execution_count": 8,
   "metadata": {
    "collapsed": false,
    "deletable": true,
    "editable": true
   },
   "outputs": [
    {
     "name": "stdout",
     "output_type": "stream",
     "text": [
      "{u'poster_path': u'/xWlaTLnD8NJMTT9PGOD9z5re1SL.jpg', u'production_countries': [{u'iso_3166_1': u'CA', u'name': u'Canada'}, {u'iso_3166_1': u'GB', u'name': u'United Kingdom'}, {u'iso_3166_1': u'US', u'name': u'United States of America'}], u'revenue': 662845518, u'overview': u'A young boy learns that he has extraordinary powers and is not of this earth. As a young man, he journeys to discover where he came from and what he was sent here to do. But the hero in him must emerge if he is to save the world from annihilation and become the symbol of hope for all mankind.', u'video': False, u'id': 49521, u'genres': [{u'id': 28, u'name': u'Action'}, {u'id': 12, u'name': u'Adventure'}, {u'id': 14, u'name': u'Fantasy'}, {u'id': 878, u'name': u'Science Fiction'}], u'title': u'Man of Steel', u'tagline': u'You will believe that a man can fly.', u'vote_count': 5322, u'homepage': u'http://www.manofsteel.com/', u'belongs_to_collection': {u'backdrop_path': u'/csERw2A3XIsGegkzil6UGpyhqfw.jpg', u'poster_path': u'/rNnIW6xSPeTiIUtsfEhFeIRiJVv.jpg', u'id': 209131, u'name': u'Man of Steel Collection'}, u'original_language': u'en', u'status': u'Released', u'spoken_languages': [{u'iso_639_1': u'en', u'name': u'English'}], u'imdb_id': u'tt0770828', u'adult': False, u'backdrop_path': u'/jYLh4mdOqkt30i7LTFs3o02UcGF.jpg', u'production_companies': [{u'name': u'Legendary Pictures', u'id': 923}, {u'name': u'Warner Bros.', u'id': 6194}, {u'name': u'DC Entertainment', u'id': 9993}, {u'name': u'Syncopy', u'id': 9996}, {u'name': u'Cruel and Unusual Films', u'id': 78685}], u'release_date': u'2013-06-12', u'popularity': 3.663337, u'original_title': u'Man of Steel', u'budget': 225000000, u'vote_average': 6.5, u'runtime': 143}\n"
     ]
    }
   ],
   "source": [
    "#print the response to see the poster path `image name\n",
    "print response"
   ]
  },
  {
   "cell_type": "code",
   "execution_count": 9,
   "metadata": {
    "collapsed": false,
    "deletable": true,
    "editable": true
   },
   "outputs": [
    {
     "name": "stdout",
     "output_type": "stream",
     "text": [
      "http://image.tmdb.org/t/p/original/xWlaTLnD8NJMTT9PGOD9z5re1SL.jpg\n"
     ]
    }
   ],
   "source": [
    "\n",
    "#Get the configuration info to obtain base url and poster sizes to build the main poster path\n",
    "config = tmdb.Configuration()\n",
    "response_c = config.info()\n",
    "\n",
    "#base_url\n",
    "base_url = config.images['base_url']\n",
    "#poster_sizes\n",
    "psize= config.images['poster_sizes'][6]\n",
    "\n",
    "#construct the poster url\n",
    "poster_url = base_url + psize +  movie_s.poster_path\n",
    "print poster_url\n"
   ]
  },
  {
   "cell_type": "markdown",
   "metadata": {},
   "source": [
    "###  At this point lets step aside and  pick Bourne movies and combine the two datasets from IMDB and TMDB to see how  data consistency prevails across the two movie websites"
   ]
  },
  {
   "cell_type": "code",
   "execution_count": 208,
   "metadata": {
    "collapsed": false
   },
   "outputs": [
    {
     "data": {
      "text/html": [
       "<div>\n",
       "<table border=\"1\" class=\"dataframe\">\n",
       "  <thead>\n",
       "    <tr style=\"text-align: right;\">\n",
       "      <th></th>\n",
       "      <th>imdb_genre</th>\n",
       "      <th>imdb_id</th>\n",
       "      <th>imdb_poster_path</th>\n",
       "      <th>imdb_rating</th>\n",
       "      <th>original_title</th>\n",
       "      <th>release_date</th>\n",
       "    </tr>\n",
       "  </thead>\n",
       "  <tbody>\n",
       "    <tr>\n",
       "      <th>0</th>\n",
       "      <td>[Action, Mystery, Thriller]</td>\n",
       "      <td>0258463</td>\n",
       "      <td>https://images-na.ssl-images-amazon.com/images...</td>\n",
       "      <td>7.9</td>\n",
       "      <td>The Bourne Identity</td>\n",
       "      <td>2002</td>\n",
       "    </tr>\n",
       "    <tr>\n",
       "      <th>1</th>\n",
       "      <td>[Action, Mystery, Thriller]</td>\n",
       "      <td>0372183</td>\n",
       "      <td>https://images-na.ssl-images-amazon.com/images...</td>\n",
       "      <td>7.8</td>\n",
       "      <td>The Bourne Supremacy</td>\n",
       "      <td>2004</td>\n",
       "    </tr>\n",
       "    <tr>\n",
       "      <th>2</th>\n",
       "      <td>[Action, Mystery, Thriller]</td>\n",
       "      <td>0440963</td>\n",
       "      <td>https://images-na.ssl-images-amazon.com/images...</td>\n",
       "      <td>8.1</td>\n",
       "      <td>The Bourne Ultimatum</td>\n",
       "      <td>2007</td>\n",
       "    </tr>\n",
       "    <tr>\n",
       "      <th>3</th>\n",
       "      <td>[Action, Adventure, Mystery, Romance, Thriller]</td>\n",
       "      <td>1194173</td>\n",
       "      <td>https://images-na.ssl-images-amazon.com/images...</td>\n",
       "      <td>6.7</td>\n",
       "      <td>The Bourne Legacy</td>\n",
       "      <td>2012</td>\n",
       "    </tr>\n",
       "    <tr>\n",
       "      <th>4</th>\n",
       "      <td>[Action, Thriller]</td>\n",
       "      <td>2395088</td>\n",
       "      <td>None</td>\n",
       "      <td>NaN</td>\n",
       "      <td>Untitled Jeremy Renner/Bourne Sequel</td>\n",
       "      <td>1500</td>\n",
       "    </tr>\n",
       "  </tbody>\n",
       "</table>\n",
       "</div>"
      ],
      "text/plain": [
       "                                        imdb_genre  imdb_id  \\\n",
       "0                      [Action, Mystery, Thriller]  0258463   \n",
       "1                      [Action, Mystery, Thriller]  0372183   \n",
       "2                      [Action, Mystery, Thriller]  0440963   \n",
       "3  [Action, Adventure, Mystery, Romance, Thriller]  1194173   \n",
       "4                               [Action, Thriller]  2395088   \n",
       "\n",
       "                                    imdb_poster_path  imdb_rating  \\\n",
       "0  https://images-na.ssl-images-amazon.com/images...          7.9   \n",
       "1  https://images-na.ssl-images-amazon.com/images...          7.8   \n",
       "2  https://images-na.ssl-images-amazon.com/images...          8.1   \n",
       "3  https://images-na.ssl-images-amazon.com/images...          6.7   \n",
       "4                                               None          NaN   \n",
       "\n",
       "                         original_title  release_date  \n",
       "0                   The Bourne Identity          2002  \n",
       "1                  The Bourne Supremacy          2004  \n",
       "2                  The Bourne Ultimatum          2007  \n",
       "3                     The Bourne Legacy          2012  \n",
       "4  Untitled Jeremy Renner/Bourne Sequel          1500  "
      ]
     },
     "execution_count": 208,
     "metadata": {},
     "output_type": "execute_result"
    }
   ],
   "source": [
    "# Movie Bourne from IMDB using API connections\n",
    "\n",
    "\n",
    "movieid = []\n",
    "movietitle = []\n",
    "moviegenre = []\n",
    "movieurl = []\n",
    "movieyear = []\n",
    "movierating = []\n",
    "search_MS = ia.search_movie('The Bourne')\n",
    "for i in range(0, len(search_MS)):\n",
    "    objmovie = ia.get_movie(search_MS[i].movieID) # Search movie using ID\n",
    "    movieid.append(search_MS[i].movieID) # Create list of movie IDs\n",
    "    movietitle.append(objmovie.get('title')) # Create list of movie titles\n",
    "    moviegenre.append(objmovie.get('genre')) # Create list of movie genres\n",
    "    movieurl.append(objmovie.get('cover url')) # Create list of movie poster URL\n",
    "    movieyear.append(objmovie.get('year')) # Create list of movie release year\n",
    "    movierating.append(objmovie.get('rating')) # Create list of movie rating\n",
    "    time.sleep(1)\n",
    "#Creating final data frame\n",
    "imdb_feed = pd.DataFrame({'imdb_id':movieid,'original_title':movietitle, 'imdb_genre':moviegenre, 'imdb_poster_path':movieurl, 'release_date': movieyear, 'imdb_rating': movierating})\n",
    "imdb_feed.release_date.fillna(1500, inplace=True)\n",
    "imdb_feed.release_date = movie_df.release_date.astype(int)\n",
    "imdb_feed.head()"
   ]
  },
  {
   "cell_type": "code",
   "execution_count": 210,
   "metadata": {
    "collapsed": false
   },
   "outputs": [
    {
     "data": {
      "text/html": [
       "<div>\n",
       "<table border=\"1\" class=\"dataframe\">\n",
       "  <thead>\n",
       "    <tr style=\"text-align: right;\">\n",
       "      <th></th>\n",
       "      <th>adult</th>\n",
       "      <th>backdrop_path</th>\n",
       "      <th>genre_ids</th>\n",
       "      <th>id</th>\n",
       "      <th>original_language</th>\n",
       "      <th>original_title</th>\n",
       "      <th>overview</th>\n",
       "      <th>popularity</th>\n",
       "      <th>poster_path</th>\n",
       "      <th>release_date</th>\n",
       "      <th>title</th>\n",
       "      <th>video</th>\n",
       "      <th>vote_average</th>\n",
       "      <th>vote_count</th>\n",
       "      <th>tmdb_genre</th>\n",
       "    </tr>\n",
       "  </thead>\n",
       "  <tbody>\n",
       "    <tr>\n",
       "      <th>0</th>\n",
       "      <td>False</td>\n",
       "      <td>/dtFiuavnsnl0krJAeSmGAOFAhw2.jpg</td>\n",
       "      <td>[28, 53]</td>\n",
       "      <td>324668</td>\n",
       "      <td>en</td>\n",
       "      <td>Jason Bourne</td>\n",
       "      <td>The most dangerous former operative of the CIA...</td>\n",
       "      <td>5.970991</td>\n",
       "      <td>/aU1PY270BTBUXwAZhgRR2TMUX4u.jpg</td>\n",
       "      <td>2016</td>\n",
       "      <td>Jason Bourne</td>\n",
       "      <td>False</td>\n",
       "      <td>5.8</td>\n",
       "      <td>1862</td>\n",
       "      <td>[Action, Thriller]</td>\n",
       "    </tr>\n",
       "    <tr>\n",
       "      <th>1</th>\n",
       "      <td>False</td>\n",
       "      <td>/lULx7grVMzc5lGaQH2B2lJ69CCh.jpg</td>\n",
       "      <td>[28, 18, 53]</td>\n",
       "      <td>2502</td>\n",
       "      <td>en</td>\n",
       "      <td>The Bourne Supremacy</td>\n",
       "      <td>When a CIA operation to purchase classified Ru...</td>\n",
       "      <td>5.099736</td>\n",
       "      <td>/6a74OaZArLNNDHK9SdiLBUu2JYj.jpg</td>\n",
       "      <td>2004</td>\n",
       "      <td>The Bourne Supremacy</td>\n",
       "      <td>False</td>\n",
       "      <td>7.2</td>\n",
       "      <td>2366</td>\n",
       "      <td>[Action, Drama, Thriller]</td>\n",
       "    </tr>\n",
       "    <tr>\n",
       "      <th>2</th>\n",
       "      <td>False</td>\n",
       "      <td>/2Fr1vqBiDn8xRJM9elcplzHctTN.jpg</td>\n",
       "      <td>[28, 18, 9648, 53]</td>\n",
       "      <td>2501</td>\n",
       "      <td>en</td>\n",
       "      <td>The Bourne Identity</td>\n",
       "      <td>Wounded to the brink of death and suffering fr...</td>\n",
       "      <td>4.993621</td>\n",
       "      <td>/bXQIL36VQdzJ69lcjQR1WQzJqQR.jpg</td>\n",
       "      <td>2002</td>\n",
       "      <td>The Bourne Identity</td>\n",
       "      <td>False</td>\n",
       "      <td>7.2</td>\n",
       "      <td>3043</td>\n",
       "      <td>[Action, Drama, Mystery, Thriller]</td>\n",
       "    </tr>\n",
       "    <tr>\n",
       "      <th>3</th>\n",
       "      <td>False</td>\n",
       "      <td>/6WpDOqkZFmhNJ0rwuLJiZVKlZi1.jpg</td>\n",
       "      <td>[28, 18, 9648, 53]</td>\n",
       "      <td>2503</td>\n",
       "      <td>en</td>\n",
       "      <td>The Bourne Ultimatum</td>\n",
       "      <td>Bourne is brought out of hiding once again by ...</td>\n",
       "      <td>4.294931</td>\n",
       "      <td>/fHho6JYYY0nRcETWSoeI19iZsNF.jpg</td>\n",
       "      <td>2007</td>\n",
       "      <td>The Bourne Ultimatum</td>\n",
       "      <td>False</td>\n",
       "      <td>7.3</td>\n",
       "      <td>2458</td>\n",
       "      <td>[Action, Drama, Mystery, Thriller]</td>\n",
       "    </tr>\n",
       "    <tr>\n",
       "      <th>4</th>\n",
       "      <td>False</td>\n",
       "      <td>/8kdXppXTbg50prSXsnLJikithmT.jpg</td>\n",
       "      <td>[28, 53]</td>\n",
       "      <td>49040</td>\n",
       "      <td>en</td>\n",
       "      <td>The Bourne Legacy</td>\n",
       "      <td>New CIA operative, Aaron Cross experiences lif...</td>\n",
       "      <td>3.936230</td>\n",
       "      <td>/AnKnLsybNhnibvA3mba1ct9Nnb6.jpg</td>\n",
       "      <td>2012</td>\n",
       "      <td>The Bourne Legacy</td>\n",
       "      <td>False</td>\n",
       "      <td>6.0</td>\n",
       "      <td>2352</td>\n",
       "      <td>[Action, Thriller]</td>\n",
       "    </tr>\n",
       "  </tbody>\n",
       "</table>\n",
       "</div>"
      ],
      "text/plain": [
       "   adult                     backdrop_path           genre_ids      id  \\\n",
       "0  False  /dtFiuavnsnl0krJAeSmGAOFAhw2.jpg            [28, 53]  324668   \n",
       "1  False  /lULx7grVMzc5lGaQH2B2lJ69CCh.jpg        [28, 18, 53]    2502   \n",
       "2  False  /2Fr1vqBiDn8xRJM9elcplzHctTN.jpg  [28, 18, 9648, 53]    2501   \n",
       "3  False  /6WpDOqkZFmhNJ0rwuLJiZVKlZi1.jpg  [28, 18, 9648, 53]    2503   \n",
       "4  False  /8kdXppXTbg50prSXsnLJikithmT.jpg            [28, 53]   49040   \n",
       "\n",
       "  original_language        original_title  \\\n",
       "0                en          Jason Bourne   \n",
       "1                en  The Bourne Supremacy   \n",
       "2                en   The Bourne Identity   \n",
       "3                en  The Bourne Ultimatum   \n",
       "4                en     The Bourne Legacy   \n",
       "\n",
       "                                            overview  popularity  \\\n",
       "0  The most dangerous former operative of the CIA...    5.970991   \n",
       "1  When a CIA operation to purchase classified Ru...    5.099736   \n",
       "2  Wounded to the brink of death and suffering fr...    4.993621   \n",
       "3  Bourne is brought out of hiding once again by ...    4.294931   \n",
       "4  New CIA operative, Aaron Cross experiences lif...    3.936230   \n",
       "\n",
       "                        poster_path  release_date                 title  \\\n",
       "0  /aU1PY270BTBUXwAZhgRR2TMUX4u.jpg          2016          Jason Bourne   \n",
       "1  /6a74OaZArLNNDHK9SdiLBUu2JYj.jpg          2004  The Bourne Supremacy   \n",
       "2  /bXQIL36VQdzJ69lcjQR1WQzJqQR.jpg          2002   The Bourne Identity   \n",
       "3  /fHho6JYYY0nRcETWSoeI19iZsNF.jpg          2007  The Bourne Ultimatum   \n",
       "4  /AnKnLsybNhnibvA3mba1ct9Nnb6.jpg          2012     The Bourne Legacy   \n",
       "\n",
       "   video  vote_average  vote_count                          tmdb_genre  \n",
       "0  False           5.8        1862                  [Action, Thriller]  \n",
       "1  False           7.2        2366           [Action, Drama, Thriller]  \n",
       "2  False           7.2        3043  [Action, Drama, Mystery, Thriller]  \n",
       "3  False           7.3        2458  [Action, Drama, Mystery, Thriller]  \n",
       "4  False           6.0        2352                  [Action, Thriller]  "
      ]
     },
     "execution_count": 210,
     "metadata": {},
     "output_type": "execute_result"
    }
   ],
   "source": [
    "# Movie Bourne from TMDB\n",
    "movie_name = 'Bourne'\n",
    "moviedata = requests.get(\"http://api.themoviedb.org/3/search/movie?include_adult=false&page=1&query=\"\n",
    "             + movie_name +\"&language=en-US&api_key=d34bc9fba7aa52b8156fd52d8f59bd08\")\n",
    "moviedetails = moviedata.json()\n",
    "movie_df = json_normalize(moviedetails['results'])\n",
    "get_genre = []\n",
    "for lst in movie_df.genre_ids:\n",
    "    in_genre = []\n",
    "    for i in range(0, len(lst)):\n",
    "        in_genre.append(genre_df.loc[genre_df['id'] == lst[i], 'name'].item())\n",
    "    get_genre.append(in_genre)\n",
    "movie_df.loc[:, 'tmdb_genre'] = get_genre\n",
    "movie_df.release_date = pd.to_datetime(movie_df.release_date)\n",
    "movie_df.release_date.fillna(1500, inplace=True)\n",
    "movie_df.release_date = movie_df[\"release_date\"].apply(lambda x : int(x.year))\n",
    "movie_df.head()"
   ]
  },
  {
   "cell_type": "code",
   "execution_count": 211,
   "metadata": {
    "collapsed": false
   },
   "outputs": [
    {
     "data": {
      "text/html": [
       "<div>\n",
       "<table border=\"1\" class=\"dataframe\">\n",
       "  <thead>\n",
       "    <tr style=\"text-align: right;\">\n",
       "      <th></th>\n",
       "      <th>adult</th>\n",
       "      <th>backdrop_path</th>\n",
       "      <th>genre_ids</th>\n",
       "      <th>id</th>\n",
       "      <th>original_language</th>\n",
       "      <th>original_title</th>\n",
       "      <th>overview</th>\n",
       "      <th>popularity</th>\n",
       "      <th>poster_path</th>\n",
       "      <th>release_date</th>\n",
       "      <th>title</th>\n",
       "      <th>video</th>\n",
       "      <th>vote_average</th>\n",
       "      <th>vote_count</th>\n",
       "      <th>tmdb_genre</th>\n",
       "      <th>imdb_genre</th>\n",
       "      <th>imdb_id</th>\n",
       "      <th>imdb_poster_path</th>\n",
       "      <th>imdb_rating</th>\n",
       "    </tr>\n",
       "  </thead>\n",
       "  <tbody>\n",
       "    <tr>\n",
       "      <th>0</th>\n",
       "      <td>False</td>\n",
       "      <td>/dtFiuavnsnl0krJAeSmGAOFAhw2.jpg</td>\n",
       "      <td>[28, 53]</td>\n",
       "      <td>324668</td>\n",
       "      <td>en</td>\n",
       "      <td>Jason Bourne</td>\n",
       "      <td>The most dangerous former operative of the CIA...</td>\n",
       "      <td>5.970991</td>\n",
       "      <td>/aU1PY270BTBUXwAZhgRR2TMUX4u.jpg</td>\n",
       "      <td>2016</td>\n",
       "      <td>Jason Bourne</td>\n",
       "      <td>False</td>\n",
       "      <td>5.8</td>\n",
       "      <td>1862</td>\n",
       "      <td>[Action, Thriller]</td>\n",
       "      <td>[Action, Thriller]</td>\n",
       "      <td>4196776</td>\n",
       "      <td>https://images-na.ssl-images-amazon.com/images...</td>\n",
       "      <td>6.7</td>\n",
       "    </tr>\n",
       "    <tr>\n",
       "      <th>1</th>\n",
       "      <td>False</td>\n",
       "      <td>/lULx7grVMzc5lGaQH2B2lJ69CCh.jpg</td>\n",
       "      <td>[28, 18, 53]</td>\n",
       "      <td>2502</td>\n",
       "      <td>en</td>\n",
       "      <td>The Bourne Supremacy</td>\n",
       "      <td>When a CIA operation to purchase classified Ru...</td>\n",
       "      <td>5.099736</td>\n",
       "      <td>/6a74OaZArLNNDHK9SdiLBUu2JYj.jpg</td>\n",
       "      <td>2004</td>\n",
       "      <td>The Bourne Supremacy</td>\n",
       "      <td>False</td>\n",
       "      <td>7.2</td>\n",
       "      <td>2366</td>\n",
       "      <td>[Action, Drama, Thriller]</td>\n",
       "      <td>[Action, Mystery, Thriller]</td>\n",
       "      <td>0372183</td>\n",
       "      <td>https://images-na.ssl-images-amazon.com/images...</td>\n",
       "      <td>7.8</td>\n",
       "    </tr>\n",
       "    <tr>\n",
       "      <th>2</th>\n",
       "      <td>False</td>\n",
       "      <td>/2Fr1vqBiDn8xRJM9elcplzHctTN.jpg</td>\n",
       "      <td>[28, 18, 9648, 53]</td>\n",
       "      <td>2501</td>\n",
       "      <td>en</td>\n",
       "      <td>The Bourne Identity</td>\n",
       "      <td>Wounded to the brink of death and suffering fr...</td>\n",
       "      <td>4.993621</td>\n",
       "      <td>/bXQIL36VQdzJ69lcjQR1WQzJqQR.jpg</td>\n",
       "      <td>2002</td>\n",
       "      <td>The Bourne Identity</td>\n",
       "      <td>False</td>\n",
       "      <td>7.2</td>\n",
       "      <td>3043</td>\n",
       "      <td>[Action, Drama, Mystery, Thriller]</td>\n",
       "      <td>[Action, Mystery, Thriller]</td>\n",
       "      <td>0258463</td>\n",
       "      <td>https://images-na.ssl-images-amazon.com/images...</td>\n",
       "      <td>7.9</td>\n",
       "    </tr>\n",
       "    <tr>\n",
       "      <th>3</th>\n",
       "      <td>False</td>\n",
       "      <td>/6WpDOqkZFmhNJ0rwuLJiZVKlZi1.jpg</td>\n",
       "      <td>[28, 18, 9648, 53]</td>\n",
       "      <td>2503</td>\n",
       "      <td>en</td>\n",
       "      <td>The Bourne Ultimatum</td>\n",
       "      <td>Bourne is brought out of hiding once again by ...</td>\n",
       "      <td>4.294931</td>\n",
       "      <td>/fHho6JYYY0nRcETWSoeI19iZsNF.jpg</td>\n",
       "      <td>2007</td>\n",
       "      <td>The Bourne Ultimatum</td>\n",
       "      <td>False</td>\n",
       "      <td>7.3</td>\n",
       "      <td>2458</td>\n",
       "      <td>[Action, Drama, Mystery, Thriller]</td>\n",
       "      <td>[Action, Mystery, Thriller]</td>\n",
       "      <td>0440963</td>\n",
       "      <td>https://images-na.ssl-images-amazon.com/images...</td>\n",
       "      <td>8.1</td>\n",
       "    </tr>\n",
       "    <tr>\n",
       "      <th>4</th>\n",
       "      <td>False</td>\n",
       "      <td>/8kdXppXTbg50prSXsnLJikithmT.jpg</td>\n",
       "      <td>[28, 53]</td>\n",
       "      <td>49040</td>\n",
       "      <td>en</td>\n",
       "      <td>The Bourne Legacy</td>\n",
       "      <td>New CIA operative, Aaron Cross experiences lif...</td>\n",
       "      <td>3.936230</td>\n",
       "      <td>/AnKnLsybNhnibvA3mba1ct9Nnb6.jpg</td>\n",
       "      <td>2012</td>\n",
       "      <td>The Bourne Legacy</td>\n",
       "      <td>False</td>\n",
       "      <td>6.0</td>\n",
       "      <td>2352</td>\n",
       "      <td>[Action, Thriller]</td>\n",
       "      <td>[Action, Adventure, Mystery, Romance, Thriller]</td>\n",
       "      <td>1194173</td>\n",
       "      <td>https://images-na.ssl-images-amazon.com/images...</td>\n",
       "      <td>6.7</td>\n",
       "    </tr>\n",
       "  </tbody>\n",
       "</table>\n",
       "</div>"
      ],
      "text/plain": [
       "   adult                     backdrop_path           genre_ids      id  \\\n",
       "0  False  /dtFiuavnsnl0krJAeSmGAOFAhw2.jpg            [28, 53]  324668   \n",
       "1  False  /lULx7grVMzc5lGaQH2B2lJ69CCh.jpg        [28, 18, 53]    2502   \n",
       "2  False  /2Fr1vqBiDn8xRJM9elcplzHctTN.jpg  [28, 18, 9648, 53]    2501   \n",
       "3  False  /6WpDOqkZFmhNJ0rwuLJiZVKlZi1.jpg  [28, 18, 9648, 53]    2503   \n",
       "4  False  /8kdXppXTbg50prSXsnLJikithmT.jpg            [28, 53]   49040   \n",
       "\n",
       "  original_language        original_title  \\\n",
       "0                en          Jason Bourne   \n",
       "1                en  The Bourne Supremacy   \n",
       "2                en   The Bourne Identity   \n",
       "3                en  The Bourne Ultimatum   \n",
       "4                en     The Bourne Legacy   \n",
       "\n",
       "                                            overview  popularity  \\\n",
       "0  The most dangerous former operative of the CIA...    5.970991   \n",
       "1  When a CIA operation to purchase classified Ru...    5.099736   \n",
       "2  Wounded to the brink of death and suffering fr...    4.993621   \n",
       "3  Bourne is brought out of hiding once again by ...    4.294931   \n",
       "4  New CIA operative, Aaron Cross experiences lif...    3.936230   \n",
       "\n",
       "                        poster_path  release_date                 title  \\\n",
       "0  /aU1PY270BTBUXwAZhgRR2TMUX4u.jpg          2016          Jason Bourne   \n",
       "1  /6a74OaZArLNNDHK9SdiLBUu2JYj.jpg          2004  The Bourne Supremacy   \n",
       "2  /bXQIL36VQdzJ69lcjQR1WQzJqQR.jpg          2002   The Bourne Identity   \n",
       "3  /fHho6JYYY0nRcETWSoeI19iZsNF.jpg          2007  The Bourne Ultimatum   \n",
       "4  /AnKnLsybNhnibvA3mba1ct9Nnb6.jpg          2012     The Bourne Legacy   \n",
       "\n",
       "   video  vote_average  vote_count                          tmdb_genre  \\\n",
       "0  False           5.8        1862                  [Action, Thriller]   \n",
       "1  False           7.2        2366           [Action, Drama, Thriller]   \n",
       "2  False           7.2        3043  [Action, Drama, Mystery, Thriller]   \n",
       "3  False           7.3        2458  [Action, Drama, Mystery, Thriller]   \n",
       "4  False           6.0        2352                  [Action, Thriller]   \n",
       "\n",
       "                                        imdb_genre  imdb_id  \\\n",
       "0                               [Action, Thriller]  4196776   \n",
       "1                      [Action, Mystery, Thriller]  0372183   \n",
       "2                      [Action, Mystery, Thriller]  0258463   \n",
       "3                      [Action, Mystery, Thriller]  0440963   \n",
       "4  [Action, Adventure, Mystery, Romance, Thriller]  1194173   \n",
       "\n",
       "                                    imdb_poster_path  imdb_rating  \n",
       "0  https://images-na.ssl-images-amazon.com/images...          6.7  \n",
       "1  https://images-na.ssl-images-amazon.com/images...          7.8  \n",
       "2  https://images-na.ssl-images-amazon.com/images...          7.9  \n",
       "3  https://images-na.ssl-images-amazon.com/images...          8.1  \n",
       "4  https://images-na.ssl-images-amazon.com/images...          6.7  "
      ]
     },
     "execution_count": 211,
     "metadata": {},
     "output_type": "execute_result"
    }
   ],
   "source": [
    "#Merge to see the datasets  from iMDB and TMDB together\n",
    "two_source_df = pd.merge(movie_df, imdb_feed, how='inner', on =['original_title', 'release_date'])\n",
    "two_source_df.head()"
   ]
  },
  {
   "cell_type": "markdown",
   "metadata": {},
   "source": [
    "#### Collection of Data of interest which can be helpful to predict genre"
   ]
  },
  {
   "cell_type": "code",
   "execution_count": 204,
   "metadata": {
    "collapsed": false
   },
   "outputs": [
    {
     "data": {
      "text/html": [
       "<div>\n",
       "<table border=\"1\" class=\"dataframe\">\n",
       "  <thead>\n",
       "    <tr style=\"text-align: right;\">\n",
       "      <th></th>\n",
       "      <th>certification</th>\n",
       "      <th>meaning</th>\n",
       "      <th>order</th>\n",
       "      <th>type</th>\n",
       "    </tr>\n",
       "  </thead>\n",
       "  <tbody>\n",
       "    <tr>\n",
       "      <th>0</th>\n",
       "      <td>U</td>\n",
       "      <td>(Tous publics) valid for all audiences.</td>\n",
       "      <td>1</td>\n",
       "      <td>FR</td>\n",
       "    </tr>\n",
       "    <tr>\n",
       "      <th>1</th>\n",
       "      <td>12</td>\n",
       "      <td>(Interdit aux moins de 12 ans) unsuitable for ...</td>\n",
       "      <td>3</td>\n",
       "      <td>FR</td>\n",
       "    </tr>\n",
       "    <tr>\n",
       "      <th>2</th>\n",
       "      <td>10</td>\n",
       "      <td>(Déconseillé aux moins de 10 ans) unsuitable f...</td>\n",
       "      <td>2</td>\n",
       "      <td>FR</td>\n",
       "    </tr>\n",
       "    <tr>\n",
       "      <th>3</th>\n",
       "      <td>16</td>\n",
       "      <td>(Interdit aux moins de 16 ans) unsuitable for ...</td>\n",
       "      <td>4</td>\n",
       "      <td>FR</td>\n",
       "    </tr>\n",
       "    <tr>\n",
       "      <th>4</th>\n",
       "      <td>18</td>\n",
       "      <td>(Interdit aux mineurs) unsuitable for children...</td>\n",
       "      <td>5</td>\n",
       "      <td>FR</td>\n",
       "    </tr>\n",
       "  </tbody>\n",
       "</table>\n",
       "</div>"
      ],
      "text/plain": [
       "  certification                                            meaning  order type\n",
       "0             U            (Tous publics) valid for all audiences.      1   FR\n",
       "1            12  (Interdit aux moins de 12 ans) unsuitable for ...      3   FR\n",
       "2            10  (Déconseillé aux moins de 10 ans) unsuitable f...      2   FR\n",
       "3            16  (Interdit aux moins de 16 ans) unsuitable for ...      4   FR\n",
       "4            18  (Interdit aux mineurs) unsuitable for children...      5   FR"
      ]
     },
     "execution_count": 204,
     "metadata": {},
     "output_type": "execute_result"
    }
   ],
   "source": [
    "# Data of interest which can be helpful are the certifactes o predict genres like horror etc\n",
    "cert = []\n",
    "certdata = requests.get(\"http://api.themoviedb.org/3/certification/movie/list?api_key=086e1765d64f7c65a62924f5a9eda3e6\")\n",
    "certification = certdata.json()\n",
    "for key, value in certification.items():\n",
    "    for innerkey, values in value.items():\n",
    "        temp = json_normalize(certification['certifications'][innerkey])\n",
    "        temp['type'] = innerkey\n",
    "        cert.append(temp)\n",
    "cert = pd.concat(cert, axis=0, ignore_index=True)\n",
    "cert.head()"
   ]
  },
  {
   "cell_type": "code",
   "execution_count": 205,
   "metadata": {
    "collapsed": false
   },
   "outputs": [
    {
     "data": {
      "text/html": [
       "<div>\n",
       "<table border=\"1\" class=\"dataframe\">\n",
       "  <thead>\n",
       "    <tr style=\"text-align: right;\">\n",
       "      <th></th>\n",
       "      <th>id</th>\n",
       "      <th>name</th>\n",
       "    </tr>\n",
       "  </thead>\n",
       "  <tbody>\n",
       "    <tr>\n",
       "      <th>0</th>\n",
       "      <td>28</td>\n",
       "      <td>Action</td>\n",
       "    </tr>\n",
       "    <tr>\n",
       "      <th>1</th>\n",
       "      <td>12</td>\n",
       "      <td>Adventure</td>\n",
       "    </tr>\n",
       "    <tr>\n",
       "      <th>2</th>\n",
       "      <td>16</td>\n",
       "      <td>Animation</td>\n",
       "    </tr>\n",
       "    <tr>\n",
       "      <th>3</th>\n",
       "      <td>35</td>\n",
       "      <td>Comedy</td>\n",
       "    </tr>\n",
       "    <tr>\n",
       "      <th>4</th>\n",
       "      <td>80</td>\n",
       "      <td>Crime</td>\n",
       "    </tr>\n",
       "  </tbody>\n",
       "</table>\n",
       "</div>"
      ],
      "text/plain": [
       "   id       name\n",
       "0  28     Action\n",
       "1  12  Adventure\n",
       "2  16  Animation\n",
       "3  35     Comedy\n",
       "4  80      Crime"
      ]
     },
     "execution_count": 205,
     "metadata": {},
     "output_type": "execute_result"
    }
   ],
   "source": [
    "# Getting all genre descriptions\n",
    "genredata = requests.get(\"http://api.themoviedb.org/3/genre/movie/list?language=en-US&api_key=d34bc9fba7aa52b8156fd52d8f59bd08\")\n",
    "genredetails = genredata.json()\n",
    "genre_df = json_normalize(genredetails['genres'])\n",
    "genre_df.head()"
   ]
  },
  {
   "cell_type": "markdown",
   "metadata": {
    "deletable": true,
    "editable": true
   },
   "source": [
    "\n",
    "# Top 10 most popular movies in 2016 according to TMDB and their genres"
   ]
  },
  {
   "cell_type": "code",
   "execution_count": 10,
   "metadata": {
    "collapsed": true,
    "deletable": true,
    "editable": true
   },
   "outputs": [],
   "source": [
    "import requests\n",
    "\n",
    "\n",
    "#construct the url to pick top 10 most popular movies from 2016\n",
    "url = 'http://api.themoviedb.org/3/discover/movie?api_key=086e1765d64f7c65a62924f5a9eda3e6&/discover/movie?sort_by=popularity.desc&primary_release_year=2016'\n",
    "r = requests.get(url)"
   ]
  },
  {
   "cell_type": "code",
   "execution_count": 51,
   "metadata": {
    "collapsed": false,
    "deletable": true,
    "editable": true
   },
   "outputs": [
    {
     "data": {
      "text/html": [
       "<div>\n",
       "<table border=\"1\" class=\"dataframe\">\n",
       "  <thead>\n",
       "    <tr style=\"text-align: right;\">\n",
       "      <th></th>\n",
       "      <th>Movie</th>\n",
       "      <th>Popularity</th>\n",
       "      <th>Genre</th>\n",
       "    </tr>\n",
       "  </thead>\n",
       "  <tbody>\n",
       "    <tr>\n",
       "      <th>0</th>\n",
       "      <td>Sing</td>\n",
       "      <td>76.005907</td>\n",
       "      <td>Animation,Comedy,Drama,Family,Music</td>\n",
       "    </tr>\n",
       "    <tr>\n",
       "      <th>1</th>\n",
       "      <td>Fantastic Beasts and Where to Find Them</td>\n",
       "      <td>39.239379</td>\n",
       "      <td>Adventure,Action,Fantasy</td>\n",
       "    </tr>\n",
       "    <tr>\n",
       "      <th>2</th>\n",
       "      <td>Finding Dory</td>\n",
       "      <td>31.769363</td>\n",
       "      <td>Adventure,Animation,Comedy,Family</td>\n",
       "    </tr>\n",
       "    <tr>\n",
       "      <th>3</th>\n",
       "      <td>Deadpool</td>\n",
       "      <td>26.382598</td>\n",
       "      <td>Action,Adventure,Comedy,Romance</td>\n",
       "    </tr>\n",
       "    <tr>\n",
       "      <th>4</th>\n",
       "      <td>Rogue One: A Star Wars Story</td>\n",
       "      <td>25.082126</td>\n",
       "      <td>Action,Drama,Science Fiction,War</td>\n",
       "    </tr>\n",
       "    <tr>\n",
       "      <th>5</th>\n",
       "      <td>Doctor Strange</td>\n",
       "      <td>23.441433</td>\n",
       "      <td>Action,Adventure,Fantasy,Science Fiction</td>\n",
       "    </tr>\n",
       "    <tr>\n",
       "      <th>6</th>\n",
       "      <td>Arrival</td>\n",
       "      <td>22.476241</td>\n",
       "      <td>Drama,Science Fiction</td>\n",
       "    </tr>\n",
       "    <tr>\n",
       "      <th>7</th>\n",
       "      <td>Captain America: Civil War</td>\n",
       "      <td>21.467025</td>\n",
       "      <td>Action,Science Fiction</td>\n",
       "    </tr>\n",
       "    <tr>\n",
       "      <th>8</th>\n",
       "      <td>Underworld: Blood Wars</td>\n",
       "      <td>20.082001</td>\n",
       "      <td>Action,Horror</td>\n",
       "    </tr>\n",
       "    <tr>\n",
       "      <th>9</th>\n",
       "      <td>Lion</td>\n",
       "      <td>15.298543</td>\n",
       "      <td>Drama</td>\n",
       "    </tr>\n",
       "  </tbody>\n",
       "</table>\n",
       "</div>"
      ],
      "text/plain": [
       "                                     Movie Popularity  \\\n",
       "0                                     Sing  76.005907   \n",
       "1  Fantastic Beasts and Where to Find Them  39.239379   \n",
       "2                             Finding Dory  31.769363   \n",
       "3                                 Deadpool  26.382598   \n",
       "4             Rogue One: A Star Wars Story  25.082126   \n",
       "5                           Doctor Strange  23.441433   \n",
       "6                                  Arrival  22.476241   \n",
       "7               Captain America: Civil War  21.467025   \n",
       "8                   Underworld: Blood Wars  20.082001   \n",
       "9                                     Lion  15.298543   \n",
       "\n",
       "                                      Genre  \n",
       "0       Animation,Comedy,Drama,Family,Music  \n",
       "1                  Adventure,Action,Fantasy  \n",
       "2         Adventure,Animation,Comedy,Family  \n",
       "3           Action,Adventure,Comedy,Romance  \n",
       "4          Action,Drama,Science Fiction,War  \n",
       "5  Action,Adventure,Fantasy,Science Fiction  \n",
       "6                     Drama,Science Fiction  \n",
       "7                    Action,Science Fiction  \n",
       "8                             Action,Horror  \n",
       "9                                     Drama  "
      ]
     },
     "execution_count": 51,
     "metadata": {},
     "output_type": "execute_result"
    }
   ],
   "source": [
    "#populate an empty dataframe to hold top 10 popular results\n",
    "df = pd.DataFrame(columns =['Movie', 'Popularity','Genre'] )\n",
    "\n",
    "# The body of the p.tag in the results set is not navigatable but the results are in json format \n",
    "config = r.json()\n",
    "#check the configuration results and pick toop 10\n",
    "results10 = config['results'][0:10]\n",
    "\n",
    "for i in range(len(results10)):\n",
    "    movie_s = tmdb.Movies(config['results'][i]['id'])\n",
    "    #check the response file to carve out the useful information to construct poster path\n",
    "    response = movie_s.info()\n",
    "    genre=''\n",
    "    for j in range(len(movie_s.genres)):\n",
    "        #concatenate all genres before loading into the dataframe\n",
    "        genre = genre + ',' + (movie_s.genres[j]['name'] )\n",
    "    df.loc[i] = np.array([config['results'][i]['original_title'] , config['results'][i]['popularity'] , genre[1:]])\n",
    "\n",
    "df.head(10)"
   ]
  },
  {
   "cell_type": "markdown",
   "metadata": {},
   "source": [
    "\n",
    "# Visualizations of the genre pairs from selected 1000 movies"
   ]
  },
  {
   "cell_type": "code",
   "execution_count": null,
   "metadata": {
    "collapsed": false
   },
   "outputs": [],
   "source": [
    "import requests\n",
    "import time\n",
    "\n",
    "#construct the url to pick top 10 most popular movies from 2016\n",
    "#api_key = 'd34bc9fba7aa52b8156fd52d8f59bd08'\n",
    "api_key = '086e1765d64f7c65a62924f5a9eda3e6'\n",
    "year = 2016\n",
    "page =1\n",
    "\n",
    "#populate an empty dataframe to hold 1000 movies at least to find the genre pairs distributions using a heatmap\n",
    "df_1000 = pd.DataFrame(columns =['Movie', 'Popularity','Genre'] )\n",
    "\n",
    "while len(df_1000) < 1000 :\n",
    "    url = 'http://api.themoviedb.org/3/discover/movie?api_key={0}&/discover/movie?primary_release_year={1}&page={2}'.format(api_key,year,page)\n",
    "    r = requests.get(url)\n",
    "    # The body of the p.tag in the results set is not navigatable but the results are in json format \n",
    "    config = r.json()\n",
    "    #check the configuration results and pick toop 10\n",
    "    results1000 = config['results']\n",
    "    \n",
    "    for i in range(len(results1000)):\n",
    "        \n",
    "        movie_s = tmdb.Movies(config['results'][i]['id'])\n",
    "        #check the response file to carve out the useful information to construct poster path\n",
    "        response = movie_s.info()\n",
    "        genre=''\n",
    "        for j in range(len(movie_s.genres)):\n",
    "            #concatenate all genres before loading into the dataframe\n",
    "            genre = genre + ',' + (movie_s.genres[j]['name'] )\n",
    "        #Inceememt the rowid from where next data needs to be appended\n",
    "        rowd= len(df_1000) + i\n",
    "        df_1000.loc[rowd] = np.array([config['results'][i]['original_title'] , config['results'][i]['popularity'] , genre[1:]])\n",
    "    \n",
    "    \n",
    "    page = page + 1\n",
    "    time.sleep(20)\n",
    "    "
   ]
  },
  {
   "cell_type": "code",
   "execution_count": 194,
   "metadata": {
    "collapsed": false
   },
   "outputs": [],
   "source": [
    "#Saving it ot a csv file incase we have to re run it again\n",
    "df_1000.to_csv(\"df100.csv\", sep ='\\t' , encoding='utf-8')"
   ]
  },
  {
   "cell_type": "code",
   "execution_count": null,
   "metadata": {
    "collapsed": false
   },
   "outputs": [],
   "source": [
    "\n",
    "# Jsut copying incase the original dataset is corrupted , so that i can use this backup dataset without hitting the server\n",
    "df_22 = df_1000"
   ]
  },
  {
   "cell_type": "code",
   "execution_count": null,
   "metadata": {
    "collapsed": false,
    "deletable": true,
    "editable": true
   },
   "outputs": [],
   "source": [
    "# creating the genre pairs for every movie and getting the freeeeequency of every pair among the 10000 movies collected\n",
    "from itertools import combinations\n",
    "dict = {('Action','Action') :0 }\n",
    "for i in range(len(df_1000)) :\n",
    "    Genres_split = list(df_1000.iloc[i]['Genre'].split(\",\"))\n",
    "    Genres_split.sort()\n",
    "    Genre_pairs= list(combinations(Genres_split ,2))\n",
    "    \n",
    "    for j in range(len(Genre_pairs)):\n",
    "        if Genre_pairs[j] in dict :\n",
    "            dict[Genre_pairs[j]] = 1  + dict[Genre_pairs[j]]\n",
    "        else :\n",
    "            dict[Genre_pairs[j]] = 1\n",
    "        "
   ]
  },
  {
   "cell_type": "code",
   "execution_count": 216,
   "metadata": {
    "collapsed": false
   },
   "outputs": [
    {
     "data": {
      "text/plain": [
       "[((u'Adventure', u'Crime'), 13),\n",
       " ((u'Fantasy', u'Mystery'), 5),\n",
       " ((u'Adventure', u'War'), 6),\n",
       " ((u'Action', u'Crime'), 72),\n",
       " ((u'Animation', u'Crime'), 1),\n",
       " ((u'Crime', u'Family'), 2),\n",
       " ((u'Adventure', u'History'), 6),\n",
       " ((u'Horror', u'War'), 1),\n",
       " ((u'Action', u'Western'), 3)]"
      ]
     },
     "execution_count": 216,
     "metadata": {},
     "output_type": "execute_result"
    }
   ],
   "source": [
    "# Look at first few dictionary elements\n",
    "dict.items()[1:10]"
   ]
  },
  {
   "cell_type": "code",
   "execution_count": 218,
   "metadata": {
    "collapsed": false
   },
   "outputs": [
    {
     "data": {
      "text/html": [
       "<div>\n",
       "<table border=\"1\" class=\"dataframe\">\n",
       "  <thead>\n",
       "    <tr style=\"text-align: right;\">\n",
       "      <th></th>\n",
       "      <th>Genre1</th>\n",
       "      <th>Genre2</th>\n",
       "      <th>Freq</th>\n",
       "    </tr>\n",
       "  </thead>\n",
       "  <tbody>\n",
       "    <tr>\n",
       "      <th>0</th>\n",
       "      <td>Action</td>\n",
       "      <td>Animation</td>\n",
       "      <td>17</td>\n",
       "    </tr>\n",
       "    <tr>\n",
       "      <th>1</th>\n",
       "      <td>Adventure</td>\n",
       "      <td>Crime</td>\n",
       "      <td>13</td>\n",
       "    </tr>\n",
       "    <tr>\n",
       "      <th>2</th>\n",
       "      <td>Fantasy</td>\n",
       "      <td>Mystery</td>\n",
       "      <td>5</td>\n",
       "    </tr>\n",
       "    <tr>\n",
       "      <th>3</th>\n",
       "      <td>Adventure</td>\n",
       "      <td>War</td>\n",
       "      <td>6</td>\n",
       "    </tr>\n",
       "    <tr>\n",
       "      <th>4</th>\n",
       "      <td>Action</td>\n",
       "      <td>Crime</td>\n",
       "      <td>72</td>\n",
       "    </tr>\n",
       "  </tbody>\n",
       "</table>\n",
       "</div>"
      ],
      "text/plain": [
       "      Genre1     Genre2 Freq\n",
       "0     Action  Animation   17\n",
       "1  Adventure      Crime   13\n",
       "2    Fantasy    Mystery    5\n",
       "3  Adventure        War    6\n",
       "4     Action      Crime   72"
      ]
     },
     "execution_count": 218,
     "metadata": {},
     "output_type": "execute_result"
    }
   ],
   "source": [
    "# Load the dictionary into a datframe so thatwe can perform pivot functions later on\n",
    "dd =pd.DataFrame(columns =[\"Genre1\" ,\"Genre2\" ,\"Freq\"])\n",
    "j= 0\n",
    "for key, value in dict.iteritems() :\n",
    "    dd.loc[j]= np.array([key[0],key[1],value])\n",
    "    j = j+1\n",
    "    \n",
    "dd.head(5)\n"
   ]
  },
  {
   "cell_type": "code",
   "execution_count": 219,
   "metadata": {
    "collapsed": false
   },
   "outputs": [
    {
     "data": {
      "text/html": [
       "<div>\n",
       "<table border=\"1\" class=\"dataframe\">\n",
       "  <thead>\n",
       "    <tr style=\"text-align: right;\">\n",
       "      <th>Genre2</th>\n",
       "      <th>Action</th>\n",
       "      <th>Adventure</th>\n",
       "      <th>Animation</th>\n",
       "      <th>Comedy</th>\n",
       "      <th>Crime</th>\n",
       "      <th>Drama</th>\n",
       "      <th>Family</th>\n",
       "      <th>Fantasy</th>\n",
       "      <th>History</th>\n",
       "      <th>Horror</th>\n",
       "      <th>Music</th>\n",
       "      <th>Mystery</th>\n",
       "      <th>Romance</th>\n",
       "      <th>Science Fiction</th>\n",
       "      <th>TV Movie</th>\n",
       "      <th>Thriller</th>\n",
       "      <th>War</th>\n",
       "      <th>Western</th>\n",
       "    </tr>\n",
       "    <tr>\n",
       "      <th>Genre1</th>\n",
       "      <th></th>\n",
       "      <th></th>\n",
       "      <th></th>\n",
       "      <th></th>\n",
       "      <th></th>\n",
       "      <th></th>\n",
       "      <th></th>\n",
       "      <th></th>\n",
       "      <th></th>\n",
       "      <th></th>\n",
       "      <th></th>\n",
       "      <th></th>\n",
       "      <th></th>\n",
       "      <th></th>\n",
       "      <th></th>\n",
       "      <th></th>\n",
       "      <th></th>\n",
       "      <th></th>\n",
       "    </tr>\n",
       "  </thead>\n",
       "  <tbody>\n",
       "    <tr>\n",
       "      <th>Action</th>\n",
       "      <td>0</td>\n",
       "      <td>191</td>\n",
       "      <td>17</td>\n",
       "      <td>56</td>\n",
       "      <td>72</td>\n",
       "      <td>74</td>\n",
       "      <td>23</td>\n",
       "      <td>79</td>\n",
       "      <td>9</td>\n",
       "      <td>19</td>\n",
       "      <td>None</td>\n",
       "      <td>28</td>\n",
       "      <td>7</td>\n",
       "      <td>145</td>\n",
       "      <td>None</td>\n",
       "      <td>170</td>\n",
       "      <td>19</td>\n",
       "      <td>3</td>\n",
       "    </tr>\n",
       "    <tr>\n",
       "      <th>Adventure</th>\n",
       "      <td>None</td>\n",
       "      <td>None</td>\n",
       "      <td>54</td>\n",
       "      <td>70</td>\n",
       "      <td>13</td>\n",
       "      <td>50</td>\n",
       "      <td>86</td>\n",
       "      <td>109</td>\n",
       "      <td>6</td>\n",
       "      <td>7</td>\n",
       "      <td>1</td>\n",
       "      <td>14</td>\n",
       "      <td>21</td>\n",
       "      <td>110</td>\n",
       "      <td>None</td>\n",
       "      <td>75</td>\n",
       "      <td>6</td>\n",
       "      <td>4</td>\n",
       "    </tr>\n",
       "    <tr>\n",
       "      <th>Animation</th>\n",
       "      <td>None</td>\n",
       "      <td>None</td>\n",
       "      <td>None</td>\n",
       "      <td>60</td>\n",
       "      <td>1</td>\n",
       "      <td>6</td>\n",
       "      <td>101</td>\n",
       "      <td>38</td>\n",
       "      <td>None</td>\n",
       "      <td>None</td>\n",
       "      <td>7</td>\n",
       "      <td>1</td>\n",
       "      <td>8</td>\n",
       "      <td>11</td>\n",
       "      <td>None</td>\n",
       "      <td>1</td>\n",
       "      <td>None</td>\n",
       "      <td>None</td>\n",
       "    </tr>\n",
       "    <tr>\n",
       "      <th>Comedy</th>\n",
       "      <td>None</td>\n",
       "      <td>None</td>\n",
       "      <td>None</td>\n",
       "      <td>None</td>\n",
       "      <td>25</td>\n",
       "      <td>60</td>\n",
       "      <td>79</td>\n",
       "      <td>49</td>\n",
       "      <td>1</td>\n",
       "      <td>7</td>\n",
       "      <td>8</td>\n",
       "      <td>6</td>\n",
       "      <td>59</td>\n",
       "      <td>20</td>\n",
       "      <td>None</td>\n",
       "      <td>11</td>\n",
       "      <td>None</td>\n",
       "      <td>None</td>\n",
       "    </tr>\n",
       "    <tr>\n",
       "      <th>Crime</th>\n",
       "      <td>None</td>\n",
       "      <td>None</td>\n",
       "      <td>None</td>\n",
       "      <td>None</td>\n",
       "      <td>None</td>\n",
       "      <td>70</td>\n",
       "      <td>2</td>\n",
       "      <td>7</td>\n",
       "      <td>1</td>\n",
       "      <td>5</td>\n",
       "      <td>1</td>\n",
       "      <td>20</td>\n",
       "      <td>4</td>\n",
       "      <td>4</td>\n",
       "      <td>None</td>\n",
       "      <td>80</td>\n",
       "      <td>None</td>\n",
       "      <td>1</td>\n",
       "    </tr>\n",
       "  </tbody>\n",
       "</table>\n",
       "</div>"
      ],
      "text/plain": [
       "Genre2    Action Adventure Animation Comedy Crime Drama Family Fantasy  \\\n",
       "Genre1                                                                   \n",
       "Action         0       191        17     56    72    74     23      79   \n",
       "Adventure   None      None        54     70    13    50     86     109   \n",
       "Animation   None      None      None     60     1     6    101      38   \n",
       "Comedy      None      None      None   None    25    60     79      49   \n",
       "Crime       None      None      None   None  None    70      2       7   \n",
       "\n",
       "Genre2    History Horror Music Mystery Romance Science Fiction TV Movie  \\\n",
       "Genre1                                                                    \n",
       "Action          9     19  None      28       7             145     None   \n",
       "Adventure       6      7     1      14      21             110     None   \n",
       "Animation    None   None     7       1       8              11     None   \n",
       "Comedy          1      7     8       6      59              20     None   \n",
       "Crime           1      5     1      20       4               4     None   \n",
       "\n",
       "Genre2    Thriller   War Western  \n",
       "Genre1                            \n",
       "Action         170    19       3  \n",
       "Adventure       75     6       4  \n",
       "Animation        1  None    None  \n",
       "Comedy          11  None    None  \n",
       "Crime           80  None       1  "
      ]
     },
     "execution_count": 219,
     "metadata": {},
     "output_type": "execute_result"
    }
   ],
   "source": [
    "dd  = dd.pivot(index =\"Genre1\", columns =\"Genre2\",values = \"Freq\")\n",
    "dd.head()"
   ]
  },
  {
   "cell_type": "code",
   "execution_count": 199,
   "metadata": {
    "collapsed": false
   },
   "outputs": [
    {
     "data": {
      "image/png": "[encoded data removed]",
      "text/plain": [
       "<matplotlib.figure.Figure at 0x7fdf2c0c7550>"
      ]
     },
     "metadata": {},
     "output_type": "display_data"
    }
   ],
   "source": [
    "#Visualization of all genre pairs frequencies in a heat map\n",
    "import matplotlib.pyplot as plt\n",
    "import seaborn as sns\n",
    "\n",
    "#Fill NaN with Zeros and convert all objects avlues into float to seaborn\n",
    "dd = dd.fillna(0)\n",
    "dd = dd[dd.columns].astype(float)\n",
    "\n",
    "\n",
    "sns.heatmap(dd)\n",
    "plt.show()\n"
   ]
  },
  {
   "cell_type": "markdown",
   "metadata": {},
   "source": [
    " From the above plot we can coment that  over a period of 1 year in 2016 , the 1000 movies that we collected, we can tell taht most of the movies made are of Action ,Thriller , Adventures combinations"
   ]
  },
  {
   "cell_type": "markdown",
   "metadata": {},
   "source": [
    "### Some additional visualizations that we did it from Tableau using the datasets we craeted above"
   ]
  },
  {
   "cell_type": "markdown",
   "metadata": {},
   "source": [
    "\n",
    "          \n",
    "<img src=\"1_RatingComparison_ByGenre.png\">\n",
    "\n",
    "<img src=\"2_MovieRatings_Genres.png\">\n",
    "\n",
    "<img src=\"3_PopularityAndGenres.png\">\n"
   ]
  },
  {
   "cell_type": "markdown",
   "metadata": {},
   "source": [
    "### Challenges with data at hand\n",
    "\n",
    "1. The sample data obtained from two sources - IMDb and TMDb show that the genre categorizations aren't same always. For example - movie \"The Bourne Supremacy\" has TMDb genres as Action, Drama, Thriller while IMDb genres are Action, Mystery, Thriller\n",
    "2. There are 18 genres a movie can be classified into. It is not a binary classification problem\n",
    "3. Since each movie can be in more than one genres, the classification task for identifying 'one' genre for a given movie would be difficult \n",
    "4. The two databases code the actual variable differently so even if both movies have the same genre coding e.g. ['Drama'], the length of the value 'Drama' is different from one database to the other.\n",
    "\n",
    "### Handling the challenges\n",
    "1. The first challenge could be addressed by retaining the common genres between the two sources and dropping other genres or consolidating the movie genres would depend on further investigation of data for a given movie\n",
    "2. Because there are multiple categories, we would have to use one vs rest approach to train the model\n",
    "3. The idea here is to build up the probabalities of each movie belonging to different genres  say using the mclust , we can use these probabilites and retain those genres which atleast made it to cutoff probabilities\n",
    "4. Make sure some scraping is needed to correct al the genres\n",
    "\n"
   ]
  },
  {
   "cell_type": "markdown",
   "metadata": {},
   "source": [
    "### Handmade Visualization\n",
    "\n",
    "The visualization drawn by hand represents an idea of identifying the average ratings of each genre across all movies in a given year in both the sources - IMDb and TMDb. A scatter plot would explain movies of which genre were preferred over other genres or were not preferred over other genres. Since the rating system requires votes from various users, there should not be a lot of cases of huge disparity between the data points and hence we should observe a rather smooth curve/pattern emerging from such a plot. The plot is a mere representation of the idea and hence the actual plot could be totally different than the handmade visualization but it should still convey the same message as anticipated above."
   ]
  },
  {
   "cell_type": "markdown",
   "metadata": {},
   "source": [
    "<img src=\"Handmade_Visualization.jpg\">"
   ]
  },
  {
   "cell_type": "markdown",
   "metadata": {},
   "source": [
    "### List of interesting questions\n",
    "1. Are some genres more popular than others?\n",
    "2. Average ratings of movies in different genres\n",
    "3. Does award nominations like Oscars can help in predict the genres\n",
    "4. Most actors are confined to sepcific genres. \n",
    "5. Total revenue across all movies in a given genre year on year - Are some genres are loosing the ability to attract viewers while others are gaining traction?\n",
    "6. Do some genres get a specific viewer certificate and hence are related to certain age group audience?\n",
    "7. Borrow the viewership information by genre to determine the audience preferences"
   ]
  },
  {
   "cell_type": "code",
   "execution_count": null,
   "metadata": {
    "collapsed": true
   },
   "outputs": [],
   "source": []
  }
 ],
 "metadata": {
  "kernelspec": {
   "display_name": "Python 2",
   "language": "python",
   "name": "python2"
  },
  "language_info": {
   "codemirror_mode": {
    "name": "ipython",
    "version": 2
   },
   "file_extension": ".py",
   "mimetype": "text/x-python",
   "name": "python",
   "nbconvert_exporter": "python",
   "pygments_lexer": "ipython2",
   "version": "2.7.12"
  }
 },
 "nbformat": 4,
 "nbformat_minor": 2
}
