{
 "cells": [
  {
   "cell_type": "code",
   "execution_count": 4,
   "metadata": {
    "collapsed": false,
    "deletable": true,
    "editable": true
   },
   "outputs": [],
   "source": [
    "import PIL\n",
    "from PIL import Image\n",
    "import pandas as pd\n",
    "import numpy as np\n",
    "import time\n",
    "from pathlib import Path\n",
    "import os\n",
    "import shutil\n",
    "\n",
    "from sklearn.cross_validation import StratifiedShuffleSplit"
   ]
  },
  {
   "cell_type": "code",
   "execution_count": 25,
   "metadata": {
    "collapsed": false,
    "deletable": true,
    "editable": true
   },
   "outputs": [
    {
     "data": {
      "text/plain": [
       "array(['AcCrTh', 'AcCrTh', 'Ho', ..., 'RoCoDa', 'Ot', 'Ot'], dtype=object)"
      ]
     },
     "execution_count": 25,
     "metadata": {},
     "output_type": "execute_result"
    }
   ],
   "source": [
    "# Read customer genres from file\n",
    "y = pd.read_csv(\"y.csv\", sep=',')\n",
    "y = y.converted.values\n",
    "y"
   ]
  },
  {
   "cell_type": "code",
   "execution_count": 26,
   "metadata": {
    "collapsed": false,
    "deletable": true,
    "editable": true
   },
   "outputs": [],
   "source": [
    "#Split data to train and test\n",
    "sss1 = StratifiedShuffleSplit(y, 1, test_size=0.20)"
   ]
  },
  {
   "cell_type": "code",
   "execution_count": 27,
   "metadata": {
    "collapsed": false,
    "deletable": true,
    "editable": true
   },
   "outputs": [
    {
     "name": "stdout",
     "output_type": "stream",
     "text": [
      "14827\n",
      "3707\n"
     ]
    }
   ],
   "source": [
    "for train_index, test_index in sss1:\n",
    "    full_training_index = train_index\n",
    "    testing_index = test_index\n",
    "    \n",
    "print(len(full_training_index))\n",
    "print(len(testing_index))"
   ]
  },
  {
   "cell_type": "code",
   "execution_count": 28,
   "metadata": {
    "collapsed": true,
    "deletable": true,
    "editable": true
   },
   "outputs": [],
   "source": [
    "#Split Train data further into train and validation\n",
    "sss2 = StratifiedShuffleSplit(y[full_training_index], 1, test_size=0.20)\n",
    "\n",
    "for train_index, test_index in sss2:\n",
    "    training_index = full_training_index[train_index]\n",
    "    validating_index = full_training_index[test_index]"
   ]
  },
  {
   "cell_type": "code",
   "execution_count": 29,
   "metadata": {
    "collapsed": false,
    "deletable": true,
    "editable": true
   },
   "outputs": [
    {
     "name": "stdout",
     "output_type": "stream",
     "text": [
      "11862\n",
      "2965\n",
      "3707\n"
     ]
    }
   ],
   "source": [
    "print(len(training_index))\n",
    "print(len(validating_index))\n",
    "print(len(testing_index))"
   ]
  },
  {
   "cell_type": "code",
   "execution_count": 30,
   "metadata": {
    "collapsed": true,
    "deletable": true,
    "editable": true
   },
   "outputs": [],
   "source": [
    "#Convert Classes to integers\n",
    "y_map = pd.DataFrame(sorted(np.unique(y)))\n",
    "y_map.columns = ['genre']\n",
    "y_map['class'] = y_map.index\n",
    "\n",
    "y_df = pd.DataFrame(y)\n",
    "y_df.columns = ['genre']\n",
    "y = y_df.join(y_map.set_index('genre'), on = 'genre')['class'].values\n",
    "\n",
    "del y_df"
   ]
  },
  {
   "cell_type": "code",
   "execution_count": 31,
   "metadata": {
    "collapsed": false,
    "deletable": true,
    "editable": true
   },
   "outputs": [
    {
     "data": {
      "text/html": [
       "<div>\n",
       "<table border=\"1\" class=\"dataframe\">\n",
       "  <thead>\n",
       "    <tr style=\"text-align: right;\">\n",
       "      <th></th>\n",
       "      <th>genre</th>\n",
       "      <th>class</th>\n",
       "    </tr>\n",
       "  </thead>\n",
       "  <tbody>\n",
       "    <tr>\n",
       "      <th>0</th>\n",
       "      <td>AcAdDr</td>\n",
       "      <td>0</td>\n",
       "    </tr>\n",
       "    <tr>\n",
       "      <th>1</th>\n",
       "      <td>AcCrTh</td>\n",
       "      <td>1</td>\n",
       "    </tr>\n",
       "    <tr>\n",
       "      <th>2</th>\n",
       "      <td>AcThMi</td>\n",
       "      <td>2</td>\n",
       "    </tr>\n",
       "    <tr>\n",
       "      <th>3</th>\n",
       "      <td>CoFaDr</td>\n",
       "      <td>3</td>\n",
       "    </tr>\n",
       "    <tr>\n",
       "      <th>4</th>\n",
       "      <td>Ho</td>\n",
       "      <td>4</td>\n",
       "    </tr>\n",
       "    <tr>\n",
       "      <th>5</th>\n",
       "      <td>Ot</td>\n",
       "      <td>5</td>\n",
       "    </tr>\n",
       "    <tr>\n",
       "      <th>6</th>\n",
       "      <td>RoCoDa</td>\n",
       "      <td>6</td>\n",
       "    </tr>\n",
       "    <tr>\n",
       "      <th>7</th>\n",
       "      <td>ScFa</td>\n",
       "      <td>7</td>\n",
       "    </tr>\n",
       "  </tbody>\n",
       "</table>\n",
       "</div>"
      ],
      "text/plain": [
       "    genre  class\n",
       "0  AcAdDr      0\n",
       "1  AcCrTh      1\n",
       "2  AcThMi      2\n",
       "3  CoFaDr      3\n",
       "4      Ho      4\n",
       "5      Ot      5\n",
       "6  RoCoDa      6\n",
       "7    ScFa      7"
      ]
     },
     "execution_count": 31,
     "metadata": {},
     "output_type": "execute_result"
    }
   ],
   "source": [
    "y_map"
   ]
  },
  {
   "cell_type": "code",
   "execution_count": 32,
   "metadata": {
    "collapsed": false,
    "deletable": true,
    "editable": true
   },
   "outputs": [
    {
     "name": "stdout",
     "output_type": "stream",
     "text": [
      "(11862L,)\n",
      "(2965L,)\n",
      "(3707L,)\n",
      "[0 1 2 3 4 5 6 7]\n",
      "[1313 4214 1345  314 1416 1131 8137  664]\n",
      "[0 1 2 3 4 5 6 7]\n",
      "[ 840 2697  861  201  906  724 5208  425]\n",
      "[0 1 2 3 4 5 6 7]\n",
      "[ 210  674  215   50  227  181 1302  106]\n",
      "[0 1 2 3 4 5 6 7]\n",
      "[ 263  843  269   63  283  226 1627  133]\n"
     ]
    }
   ],
   "source": [
    "# Validate data splits\n",
    "print(y[training_index].shape)\n",
    "print(y[validating_index].shape)\n",
    "print(y[testing_index].shape)\n",
    "\n",
    "u, unique_counts  = np.unique(y, return_counts = True)\n",
    "print(u)\n",
    "print(unique_counts)\n",
    "\n",
    "u, unique_counts  = np.unique(y[training_index], return_counts = True)\n",
    "print(u)\n",
    "print(unique_counts)\n",
    "\n",
    "u, unique_counts  = np.unique(y[validating_index], return_counts = True)\n",
    "print(u)\n",
    "print(unique_counts)\n",
    "\n",
    "u, unique_counts  = np.unique(y[testing_index], return_counts = True)\n",
    "print(u)\n",
    "print(unique_counts)"
   ]
  },
  {
   "cell_type": "code",
   "execution_count": 24,
   "metadata": {
    "collapsed": false,
    "deletable": true,
    "editable": true
   },
   "outputs": [
    {
     "data": {
      "text/plain": [
       "4"
      ]
     },
     "execution_count": 24,
     "metadata": {},
     "output_type": "execute_result"
    }
   ],
   "source": [
    "y[12]"
   ]
  },
  {
   "cell_type": "code",
   "execution_count": 33,
   "metadata": {
    "collapsed": false,
    "deletable": true,
    "editable": true
   },
   "outputs": [],
   "source": [
    "# Move data from posters folder to train, validation, and test and then further to the class folder to which the image belongs\n",
    "for i in range(len(y)):\n",
    "    source_img = './posters/poster_' + str(i) + '.jpeg'\n",
    "    \n",
    "    if i in training_index:\n",
    "        destination_path = './data/train/' + str(y[i])\n",
    "    elif i in validating_index:\n",
    "        destination_path = './data/validation/' + str(y[i])\n",
    "    elif i in testing_index:\n",
    "        \n",
    "        destination_path = './data/test/' + str(y[i])\n",
    "    else:\n",
    "        print i, y[i]\n",
    "        destination_path = './data/'\n",
    "\n",
    "    shutil.copy2(source_img, destination_path)"
   ]
  },
  {
   "cell_type": "code",
   "execution_count": 21,
   "metadata": {
    "collapsed": false,
    "deletable": true,
    "editable": true
   },
   "outputs": [
    {
     "data": {
      "text/plain": [
       "array([12753, 14475,  5024, ...,  9443,  9501,  4688], dtype=int64)"
      ]
     },
     "execution_count": 21,
     "metadata": {},
     "output_type": "execute_result"
    }
   ],
   "source": [
    "training_index"
   ]
  },
  {
   "cell_type": "code",
   "execution_count": 24,
   "metadata": {
    "collapsed": false,
    "deletable": true,
    "editable": true
   },
   "outputs": [
    {
     "data": {
      "text/plain": [
       "[]"
      ]
     },
     "execution_count": 24,
     "metadata": {},
     "output_type": "execute_result"
    }
   ],
   "source": [
    "list(set(training_index).intersection(validating_index))"
   ]
  },
  {
   "cell_type": "code",
   "execution_count": null,
   "metadata": {
    "collapsed": true,
    "deletable": true,
    "editable": true
   },
   "outputs": [],
   "source": []
  }
 ],
 "metadata": {
  "anaconda-cloud": {},
  "kernelspec": {
   "display_name": "Python 2",
   "language": "python",
   "name": "python2"
  },
  "language_info": {
   "codemirror_mode": {
    "name": "ipython",
    "version": 2
   },
   "file_extension": ".py",
   "mimetype": "text/x-python",
   "name": "python",
   "nbconvert_exporter": "python",
   "pygments_lexer": "ipython2",
   "version": "2.7.12"
  }
 },
 "nbformat": 4,
 "nbformat_minor": 1
}
