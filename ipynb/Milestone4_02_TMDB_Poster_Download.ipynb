{
 "cells": [
  {
   "cell_type": "code",
   "execution_count": 1,
   "metadata": {
    "collapsed": false,
    "deletable": true,
    "editable": true
   },
   "outputs": [],
   "source": [
    "#from imdb import IMDb   \n",
    "import pandas as pd\n",
    "import numpy as np\n",
    "import time\n",
    "import tmdbsimple as tmdb\n",
    "import requests\n",
    "#df_1000 = pd.DataFrame(columns =['imdb_id', 'Rating','Genre','RunTimes','Votes','Cast','Director','writer','Producer',\n",
    "#                                 'Certificates','Parents_Guide','Plot'] )\n",
    "\n",
    "#ia = IMDb()"
   ]
  },
  {
   "cell_type": "code",
   "execution_count": 2,
   "metadata": {
    "collapsed": false,
    "deletable": true,
    "editable": true
   },
   "outputs": [
    {
     "data": {
      "text/plain": [
       "(19884, 19)"
      ]
     },
     "execution_count": 2,
     "metadata": {},
     "output_type": "execute_result"
    }
   ],
   "source": [
    "# Read the TMDB file of 19,000 rows here\n",
    "\n",
    "tmdb_df = pd.read_csv(\"movie_df_final.csv\", sep=',', encoding='utf-8',escapechar ='\\\\' )\n",
    "tmdb_df.shape"
   ]
  },
  {
   "cell_type": "code",
   "execution_count": 3,
   "metadata": {
    "collapsed": false,
    "deletable": true,
    "editable": true
   },
   "outputs": [
    {
     "data": {
      "text/plain": [
       "u'http://image.tmdb.org/t/p/w500'"
      ]
     },
     "execution_count": 3,
     "metadata": {},
     "output_type": "execute_result"
    }
   ],
   "source": [
    "tmdb.API_KEY = '086e1765d64f7c65a62924f5a9eda3e6'\n",
    "config = tmdb.Configuration()\n",
    "response_c = config.info()\n",
    "config.images['base_url']\n",
    "\n",
    "url =config.images['base_url']+config.images['poster_sizes'][4]\n",
    "url"
   ]
  },
  {
   "cell_type": "code",
   "execution_count": 5,
   "metadata": {
    "collapsed": false,
    "deletable": true,
    "editable": true
   },
   "outputs": [
    {
     "name": "stdout",
     "output_type": "stream",
     "text": [
      "17845\n",
      "17853\n",
      "17855\n",
      "17894\n",
      "17895\n",
      "17900\n",
      "17902\n",
      "17903\n",
      "17904\n",
      "18010\n",
      "18028\n",
      "18029\n",
      "18038\n",
      "18043\n",
      "18046\n",
      "18047\n",
      "18152\n",
      "18158\n",
      "18160\n",
      "18171\n",
      "18172\n",
      "18173\n",
      "18186\n",
      "18294\n",
      "18309\n",
      "18315\n",
      "18316\n",
      "18317\n",
      "18320\n",
      "18406\n",
      "18407\n",
      "18408\n",
      "18414\n",
      "18415\n",
      "18417\n",
      "18418\n",
      "18448\n",
      "18449\n",
      "18450\n",
      "18516\n",
      "18541\n",
      "18544\n",
      "18546\n",
      "18552\n",
      "18554\n",
      "18611\n",
      "18622\n",
      "18627\n",
      "18642\n",
      "18645\n",
      "18648\n",
      "18652\n",
      "18653\n",
      "18739\n",
      "18741\n",
      "18743\n",
      "18746\n",
      "18807\n",
      "18809\n",
      "18885\n",
      "18936\n",
      "18948\n",
      "18949\n",
      "18984\n",
      "18988\n",
      "18989\n",
      "18994\n",
      "18997\n",
      "19000\n",
      "19040\n",
      "19044\n",
      "19077\n",
      "19086\n",
      "19108\n",
      "19113\n",
      "19119\n",
      "19120\n",
      "19167\n",
      "19175\n",
      "19178\n",
      "19254\n",
      "19257\n",
      "19261\n",
      "19283\n",
      "19293\n",
      "19294\n",
      "19319\n",
      "19325\n",
      "19330\n",
      "19332\n",
      "19378\n",
      "19383\n",
      "19397\n",
      "19441\n",
      "19454\n",
      "19461\n",
      "19467\n",
      "19470\n",
      "19472\n",
      "19475\n",
      "19479\n",
      "19480\n",
      "19485\n",
      "19513\n",
      "19522\n",
      "19532\n",
      "19536\n",
      "19554\n",
      "19564\n",
      "19602\n",
      "19609\n",
      "19615\n",
      "19639\n",
      "19652\n",
      "19689\n",
      "19708\n",
      "19709\n",
      "19737\n",
      "19738\n",
      "19749\n",
      "19755\n",
      "19771\n",
      "19779\n",
      "19780\n",
      "19782\n",
      "19786\n",
      "19789\n",
      "19790\n",
      "19792\n",
      "19814\n",
      "19819\n",
      "19836\n",
      "19841\n",
      "19843\n",
      "19847\n",
      "19848\n",
      "19851\n",
      "19854\n",
      "19870\n",
      "19877\n",
      "19883\n"
     ]
    }
   ],
   "source": [
    "tmdb_df[\"poster_url\"] = np.nan\n",
    "tmdb_df[\"poster_image\"] = np.nan\n",
    "\n",
    "#for i in range(5 ) :\n",
    "for i in range(17800, tmdb_df.shape[0] ) :\n",
    "\n",
    "\n",
    "    if pd.isnull(tmdb_df[\"poster_path\"][i]):\n",
    "        print(i)\n",
    "    else:\n",
    "        poster_urls = url  +  tmdb_df[\"poster_path\"][i].encode('utf8')\n",
    "    \n",
    "        #poster_urls = TMDB_IMDB_df[\"poster_url\"][i].encode('utf8')\n",
    "        r=requests.get(poster_urls)\n",
    "        filetype = r.headers['content-type'].split('/')[-1]\n",
    "        filename = 'poster_{0}.{1}'.format(i,filetype) \n",
    "        with open(filename,'wb') as w:\n",
    "            w.write(r.content)\n",
    "            \n",
    "        tmdb_df.loc[i,\"poster_url\"] = poster_urls\n",
    "        tmdb_df.loc[i,\"poster_image\"] = filename\n",
    "    if (i % 39) == 0 :\n",
    "        time.sleep(30)\n",
    "        "
   ]
  },
  {
   "cell_type": "code",
   "execution_count": null,
   "metadata": {
    "collapsed": false,
    "deletable": true,
    "editable": true
   },
   "outputs": [],
   "source": [
    "tmdb_df.head(3)"
   ]
  },
  {
   "cell_type": "code",
   "execution_count": null,
   "metadata": {
    "collapsed": false,
    "deletable": true,
    "editable": true
   },
   "outputs": [],
   "source": [
    "range(35,40)\n"
   ]
  },
  {
   "cell_type": "code",
   "execution_count": null,
   "metadata": {
    "collapsed": true,
    "deletable": true,
    "editable": true
   },
   "outputs": [],
   "source": []
  }
 ],
 "metadata": {
  "anaconda-cloud": {},
  "kernelspec": {
   "display_name": "Python 2",
   "language": "python",
   "name": "python2"
  },
  "language_info": {
   "codemirror_mode": {
    "name": "ipython",
    "version": 2
   },
   "file_extension": ".py",
   "mimetype": "text/x-python",
   "name": "python",
   "nbconvert_exporter": "python",
   "pygments_lexer": "ipython2",
   "version": "2.7.12"
  }
 },
 "nbformat": 4,
 "nbformat_minor": 2
}
