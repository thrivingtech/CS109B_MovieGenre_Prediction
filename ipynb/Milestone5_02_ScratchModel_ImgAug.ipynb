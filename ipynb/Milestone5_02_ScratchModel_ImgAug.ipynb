{
 "cells": [
  {
   "cell_type": "code",
   "execution_count": 1,
   "metadata": {
    "collapsed": false,
    "deletable": true,
    "editable": true
   },
   "outputs": [
    {
     "name": "stderr",
     "output_type": "stream",
     "text": [
      "Using TensorFlow backend.\n"
     ]
    }
   ],
   "source": [
    "from keras.preprocessing.image import ImageDataGenerator, array_to_img, img_to_array, load_img\n",
    "\n",
    "from keras.models import Sequential\n",
    "from keras.layers import Conv2D, MaxPooling2D\n",
    "from keras.layers import Activation, Dropout, Flatten, Dense, Conv2D, MaxPooling2D, BatchNormalization\n",
    "\n",
    "\n",
    "from keras.optimizers import SGD, Adam\n",
    "from keras import initializers\n",
    "from keras import backend as K\n",
    "\n",
    "import matplotlib\n",
    "%matplotlib inline\n",
    "import matplotlib.pyplot as plt\n",
    "import seaborn as sns\n",
    "sns.set_style('white')\n",
    "\n",
    "import numpy as np"
   ]
  },
  {
   "cell_type": "code",
   "execution_count": 6,
   "metadata": {
    "collapsed": false,
    "deletable": true,
    "editable": true
   },
   "outputs": [],
   "source": [
    "datagen = ImageDataGenerator(\n",
    "        rotation_range=40,\n",
    "        width_shift_range=0.2,\n",
    "        height_shift_range=0.2,\n",
    "        rescale=1./255,\n",
    "        shear_range=0.2,\n",
    "        zoom_range=0.2,\n",
    "        horizontal_flip=True,\n",
    "        fill_mode='nearest')\n",
    "\n",
    "img = load_img('poster_0.jpeg')  # this is a PIL image\n",
    "x = img_to_array(img)  # this is a Numpy array with shape (3, 150, 150)\n",
    "x = x.reshape((1,) + x.shape)  # this is a Numpy array with shape (1, 3, 150, 150)\n",
    "\n",
    "# the .flow() command below generates batches of randomly transformed images\n",
    "# and saves the results to the `preview/` directory\n",
    "i = 0\n",
    "for batch in datagen.flow(x, batch_size=1,\n",
    "                          save_to_dir='.', save_prefix='poster', save_format='jpeg'):\n",
    "    i += 1\n",
    "    if i > 20:\n",
    "        break  # otherwise the generator would loop indefinitely"
   ]
  },
  {
   "cell_type": "raw",
   "metadata": {
    "collapsed": false,
    "deletable": true,
    "editable": true
   },
   "source": [
    "input_shape = (192, 128, 3)\n",
    "num_classes = 8\n",
    "\n",
    "model = Sequential()\n",
    "model.add(Conv2D(32, (3, 3), input_shape=input_shape,\n",
    "                 kernel_initializer=initializers.random_normal(stddev=0.01)))\n",
    "model.add(BatchNormalization())\n",
    "model.add(Activation('relu'))\n",
    "model.add(MaxPooling2D(pool_size=(2, 2)))\n",
    "\n",
    "model.add(Conv2D(32, (3, 3),\n",
    "                 kernel_initializer=initializers.random_normal(stddev=0.01)))\n",
    "model.add(BatchNormalization())\n",
    "model.add(Activation('relu'))\n",
    "model.add(MaxPooling2D(pool_size=(2, 2)))\n",
    "\n",
    "model.add(Conv2D(64, (3, 3),\n",
    "                 kernel_initializer=initializers.random_normal(stddev=0.01)))\n",
    "model.add(BatchNormalization())\n",
    "model.add(Activation('relu'))\n",
    "model.add(MaxPooling2D(pool_size=(2, 2)))\n",
    "\n",
    "# the model so far outputs 3D feature maps (height, width, features)\n",
    "\n",
    "model.add(Flatten())  # this converts our 3D feature maps to 1D feature vectors\n",
    "\n",
    "model.add(Dense(64))\n",
    "model.add(Activation('relu'))\n",
    "model.add(BatchNormalization())\n",
    "#model.add(Dropout(0.5))\n",
    "\n",
    "model.add(Dense(64))\n",
    "model.add(Activation('relu'))\n",
    "model.add(BatchNormalization())\n",
    "\n",
    "model.add(Dense(64))\n",
    "model.add(Activation('relu'))\n",
    "model.add(BatchNormalization())\n",
    "\n",
    "model.add(Dense(num_classes))\n",
    "model.add(Activation('softmax'))\n",
    "\n",
    "model.summary()"
   ]
  },
  {
   "cell_type": "code",
   "execution_count": 89,
   "metadata": {
    "collapsed": false,
    "deletable": true,
    "editable": true
   },
   "outputs": [
    {
     "name": "stdout",
     "output_type": "stream",
     "text": [
      "_________________________________________________________________\n",
      "Layer (type)                 Output Shape              Param #   \n",
      "=================================================================\n",
      "conv2d_11 (Conv2D)           (None, 188, 124, 16)      1216      \n",
      "_________________________________________________________________\n",
      "batch_normalization_22 (Batc (None, 188, 124, 16)      64        \n",
      "_________________________________________________________________\n",
      "max_pooling2d_9 (MaxPooling2 (None, 94, 62, 16)        0         \n",
      "_________________________________________________________________\n",
      "conv2d_12 (Conv2D)           (None, 92, 60, 64)        9280      \n",
      "_________________________________________________________________\n",
      "batch_normalization_23 (Batc (None, 92, 60, 64)        256       \n",
      "_________________________________________________________________\n",
      "max_pooling2d_10 (MaxPooling (None, 46, 30, 64)        0         \n",
      "_________________________________________________________________\n",
      "flatten_5 (Flatten)          (None, 88320)             0         \n",
      "_________________________________________________________________\n",
      "dense_17 (Dense)             (None, 1024)              90440704  \n",
      "_________________________________________________________________\n",
      "batch_normalization_24 (Batc (None, 1024)              4096      \n",
      "_________________________________________________________________\n",
      "dense_18 (Dense)             (None, 512)               524800    \n",
      "_________________________________________________________________\n",
      "batch_normalization_25 (Batc (None, 512)               2048      \n",
      "_________________________________________________________________\n",
      "dense_19 (Dense)             (None, 128)               65664     \n",
      "_________________________________________________________________\n",
      "batch_normalization_26 (Batc (None, 128)               512       \n",
      "_________________________________________________________________\n",
      "dense_20 (Dense)             (None, 8)                 1032      \n",
      "=================================================================\n",
      "Total params: 91,049,672.0\n",
      "Trainable params: 91,046,184.0\n",
      "Non-trainable params: 3,488.0\n",
      "_________________________________________________________________\n"
     ]
    }
   ],
   "source": [
    "num_classes = 8\n",
    "\n",
    "input_shape = (192, 128,3)\n",
    "\n",
    "# create an empty network model\n",
    "model = Sequential()\n",
    "\n",
    "# --- input layer ---\n",
    "model.add(Conv2D(16, kernel_size=(5, 5), activation='relu', input_shape=input_shape,\n",
    "                 kernel_initializer=initializers.random_normal(stddev=0.01)))\n",
    "model.add(BatchNormalization())\n",
    "# --- max pool ---\n",
    "model.add(MaxPooling2D(pool_size=(2, 2)))\n",
    "\n",
    "# --- next layer ---\n",
    "# we could double the number of filters as max pool made the \n",
    "# feature maps much smaller \n",
    "# just not doing this to improve runtime\n",
    "model.add(Conv2D(64, kernel_size=(3, 3), activation='relu',kernel_initializer=initializers.random_normal(stddev=0.01)))\n",
    "model.add(BatchNormalization())\n",
    "# --- max pool ---\n",
    "model.add(MaxPooling2D(pool_size=(2, 2)))\n",
    "\n",
    "# flatten for fully connected classification layer\n",
    "model.add(Flatten())\n",
    "# note that the 10 is the number of classes we have\n",
    "# the classes are mutually exclusive so softmax is a good choice\n",
    "# --- fully connected layer ---\n",
    "model.add(Dense(1024, activation='relu'))\n",
    "model.add(BatchNormalization())\n",
    "# --- fully connected layer ---\n",
    "model.add(Dense(512, activation='relu'))\n",
    "model.add(BatchNormalization())\n",
    "# --- fully connected layer ---\n",
    "model.add(Dense(128, activation='relu'))\n",
    "model.add(BatchNormalization())\n",
    "# --- classification ---\n",
    "model.add(Dense(8, activation='softmax'))\n",
    "\n",
    "# prints out a summary of the model architecture\n",
    "model.summary()"
   ]
  },
  {
   "cell_type": "code",
   "execution_count": 103,
   "metadata": {
    "collapsed": false,
    "deletable": true,
    "editable": true
   },
   "outputs": [],
   "source": [
    "learning_rate = 0.01\n",
    "\n",
    "sgd = SGD(lr=learning_rate, momentum=0.9)\n",
    "model.compile(loss='categorical_crossentropy',\n",
    "              optimizer=sgd,\n",
    "              metrics=['accuracy'])"
   ]
  },
  {
   "cell_type": "code",
   "execution_count": 116,
   "metadata": {
    "collapsed": false,
    "deletable": true,
    "editable": true
   },
   "outputs": [
    {
     "name": "stdout",
     "output_type": "stream",
     "text": [
      "Found 11862 images belonging to 8 classes.\n",
      "Found 2965 images belonging to 8 classes.\n"
     ]
    }
   ],
   "source": [
    "img_batch_size = 16\n",
    "\n",
    "# this is the augmentation configuration we will use for training\n",
    "train_datagen = ImageDataGenerator(\n",
    "        rotation_range=40,\n",
    "        width_shift_range=0.2,\n",
    "        height_shift_range=0.2,\n",
    "        rescale=1./255,\n",
    "        shear_range=0.2,\n",
    "        zoom_range=0.2,\n",
    "        horizontal_flip=True,\n",
    "        fill_mode='nearest')\n",
    "\n",
    "# this is the augmentation configuration we will use for testing:\n",
    "# only rescaling\n",
    "validation_datagen = ImageDataGenerator(rescale=1./255)\n",
    "\n",
    "# this is a generator that will read pictures found in\n",
    "# subfolers of 'data/train', and indefinitely generate\n",
    "# batches of augmented image data\n",
    "train_generator = train_datagen.flow_from_directory(\n",
    "        'data/train',  # this is the target directory\n",
    "        target_size=(192, 128),  # all images will be resized to 150x150\n",
    "        batch_size=img_batch_size,\n",
    "        class_mode='categorical')  # since we use binary_crossentropy loss, we need binary labels\n",
    "\n",
    "# this is a similar generator, for validation data\n",
    "validation_generator = validation_datagen.flow_from_directory(\n",
    "        'data/validation',\n",
    "        target_size=(192, 128),\n",
    "        batch_size=img_batch_size,\n",
    "        class_mode='categorical')"
   ]
  },
  {
   "cell_type": "code",
   "execution_count": 141,
   "metadata": {
    "collapsed": false,
    "deletable": true,
    "editable": true,
    "scrolled": false
   },
   "outputs": [
    {
     "name": "stdout",
     "output_type": "stream",
     "text": [
      "Epoch 1/100\n",
      "1/1 [==============================] - 0s - loss: 1.7734 - acc: 0.2500 - val_loss: 1.8744 - val_acc: 0.2188\n",
      "Epoch 2/100\n",
      "1/1 [==============================] - 0s - loss: 1.7136 - acc: 0.3750 - val_loss: 1.9597 - val_acc: 0.3021\n",
      "Epoch 3/100\n",
      "1/1 [==============================] - 0s - loss: 1.8878 - acc: 0.1875 - val_loss: 1.9077 - val_acc: 0.2917\n",
      "Epoch 4/100\n",
      "1/1 [==============================] - 0s - loss: 1.8310 - acc: 0.3750 - val_loss: 1.6766 - val_acc: 0.4062\n",
      "Epoch 5/100\n",
      "1/1 [==============================] - 0s - loss: 2.0867 - acc: 0.2500 - val_loss: 1.7526 - val_acc: 0.4479\n",
      "Epoch 6/100\n",
      "1/1 [==============================] - 0s - loss: 1.7800 - acc: 0.4375 - val_loss: 1.8565 - val_acc: 0.4062\n",
      "Epoch 7/100\n",
      "1/1 [==============================] - 0s - loss: 1.9768 - acc: 0.3125 - val_loss: 1.7081 - val_acc: 0.4375\n",
      "Epoch 8/100\n",
      "1/1 [==============================] - 0s - loss: 2.0005 - acc: 0.1875 - val_loss: 1.6862 - val_acc: 0.3958\n",
      "Epoch 9/100\n",
      "1/1 [==============================] - 0s - loss: 1.6571 - acc: 0.3750 - val_loss: 1.8159 - val_acc: 0.2917\n",
      "Epoch 10/100\n",
      "1/1 [==============================] - 0s - loss: 1.6033 - acc: 0.5000 - val_loss: 1.7246 - val_acc: 0.3646\n",
      "Epoch 11/100\n",
      "1/1 [==============================] - 0s - loss: 1.6480 - acc: 0.3125 - val_loss: 1.6731 - val_acc: 0.3542\n",
      "Epoch 12/100\n",
      "1/1 [==============================] - 0s - loss: 1.8402 - acc: 0.1875 - val_loss: 1.7799 - val_acc: 0.2917\n",
      "Epoch 13/100\n",
      "1/1 [==============================] - 0s - loss: 1.5267 - acc: 0.3750 - val_loss: 1.8498 - val_acc: 0.2500\n",
      "Epoch 14/100\n",
      "1/1 [==============================] - 0s - loss: 1.4910 - acc: 0.5000 - val_loss: 1.7370 - val_acc: 0.3542\n",
      "Epoch 15/100\n",
      "1/1 [==============================] - 0s - loss: 1.6240 - acc: 0.2500 - val_loss: 1.6977 - val_acc: 0.4167\n",
      "Epoch 16/100\n",
      "1/1 [==============================] - 0s - loss: 2.0020 - acc: 0.2500 - val_loss: 1.5563 - val_acc: 0.4583\n",
      "Epoch 17/100\n",
      "1/1 [==============================] - 0s - loss: 1.5173 - acc: 0.6250 - val_loss: 1.7551 - val_acc: 0.3958\n",
      "Epoch 18/100\n",
      "1/1 [==============================] - 0s - loss: 1.4643 - acc: 0.6250 - val_loss: 1.7065 - val_acc: 0.4375\n",
      "Epoch 19/100\n",
      "1/1 [==============================] - 0s - loss: 2.1030 - acc: 0.1875 - val_loss: 1.7233 - val_acc: 0.4167\n",
      "Epoch 20/100\n",
      "1/1 [==============================] - 0s - loss: 1.5019 - acc: 0.5000 - val_loss: 1.7657 - val_acc: 0.4375\n",
      "Epoch 21/100\n",
      "1/1 [==============================] - 0s - loss: 2.2726 - acc: 0.2500 - val_loss: 1.5441 - val_acc: 0.5000\n",
      "Epoch 22/100\n",
      "1/1 [==============================] - 0s - loss: 1.5821 - acc: 0.3750 - val_loss: 1.7513 - val_acc: 0.3021\n",
      "Epoch 23/100\n",
      "1/1 [==============================] - 0s - loss: 1.5311 - acc: 0.5000 - val_loss: 1.7917 - val_acc: 0.3750\n",
      "Epoch 24/100\n",
      "1/1 [==============================] - 0s - loss: 1.6719 - acc: 0.4375 - val_loss: 1.8453 - val_acc: 0.3529\n",
      "Epoch 25/100\n",
      "1/1 [==============================] - 0s - loss: 1.7428 - acc: 0.3750 - val_loss: 1.8864 - val_acc: 0.2708\n",
      "Epoch 26/100\n",
      "1/1 [==============================] - 0s - loss: 1.8613 - acc: 0.2500 - val_loss: 1.8675 - val_acc: 0.3229\n",
      "Epoch 27/100\n",
      "1/1 [==============================] - 0s - loss: 1.6577 - acc: 0.4375 - val_loss: 1.9205 - val_acc: 0.3646\n",
      "Epoch 28/100\n",
      "1/1 [==============================] - 0s - loss: 1.9636 - acc: 0.4375 - val_loss: 1.6828 - val_acc: 0.3646\n",
      "Epoch 29/100\n",
      "1/1 [==============================] - 0s - loss: 1.7160 - acc: 0.4375 - val_loss: 1.7886 - val_acc: 0.4062\n",
      "Epoch 30/100\n",
      "1/1 [==============================] - 0s - loss: 1.7522 - acc: 0.2500 - val_loss: 1.6839 - val_acc: 0.4062\n",
      "Epoch 31/100\n",
      "1/1 [==============================] - 0s - loss: 1.5020 - acc: 0.4375 - val_loss: 1.7876 - val_acc: 0.3854\n",
      "Epoch 32/100\n",
      "1/1 [==============================] - 0s - loss: 2.0664 - acc: 0.3750 - val_loss: 1.7231 - val_acc: 0.4479\n",
      "Epoch 33/100\n",
      "1/1 [==============================] - 0s - loss: 1.8754 - acc: 0.3750 - val_loss: 1.8594 - val_acc: 0.3750\n",
      "Epoch 34/100\n",
      "1/1 [==============================] - 0s - loss: 1.9591 - acc: 0.3750 - val_loss: 1.7088 - val_acc: 0.4583\n",
      "Epoch 35/100\n",
      "1/1 [==============================] - 0s - loss: 1.4685 - acc: 0.5000 - val_loss: 1.5680 - val_acc: 0.4896\n",
      "Epoch 36/100\n",
      "1/1 [==============================] - 0s - loss: 1.4758 - acc: 0.5000 - val_loss: 1.5293 - val_acc: 0.4896\n",
      "Epoch 37/100\n",
      "1/1 [==============================] - 0s - loss: 1.2461 - acc: 0.6250 - val_loss: 1.4999 - val_acc: 0.4167\n",
      "Epoch 38/100\n",
      "1/1 [==============================] - 0s - loss: 1.7832 - acc: 0.5000 - val_loss: 1.5859 - val_acc: 0.4688\n",
      "Epoch 39/100\n",
      "1/1 [==============================] - 0s - loss: 1.3911 - acc: 0.4375 - val_loss: 1.7801 - val_acc: 0.3542\n",
      "Epoch 40/100\n",
      "1/1 [==============================] - 0s - loss: 1.3072 - acc: 0.5000 - val_loss: 1.7668 - val_acc: 0.3125\n",
      "Epoch 41/100\n",
      "1/1 [==============================] - 0s - loss: 1.5632 - acc: 0.4375 - val_loss: 1.7581 - val_acc: 0.3125\n",
      "Epoch 42/100\n",
      "1/1 [==============================] - 0s - loss: 2.0113 - acc: 0.3750 - val_loss: 1.8087 - val_acc: 0.4583\n",
      "Epoch 43/100\n",
      "1/1 [==============================] - 0s - loss: 1.1685 - acc: 0.6875 - val_loss: 1.7362 - val_acc: 0.4167\n",
      "Epoch 44/100\n",
      "1/1 [==============================] - 0s - loss: 1.3748 - acc: 0.3125 - val_loss: 1.6998 - val_acc: 0.4792\n",
      "Epoch 45/100\n",
      "1/1 [==============================] - 0s - loss: 1.7407 - acc: 0.4375 - val_loss: 1.7530 - val_acc: 0.4896\n",
      "Epoch 46/100\n",
      "1/1 [==============================] - 0s - loss: 1.9088 - acc: 0.5000 - val_loss: 1.8776 - val_acc: 0.5000\n",
      "Epoch 47/100\n",
      "1/1 [==============================] - 0s - loss: 1.5431 - acc: 0.4375 - val_loss: 1.7416 - val_acc: 0.4167\n",
      "Epoch 48/100\n",
      "1/1 [==============================] - 0s - loss: 1.6798 - acc: 0.3750 - val_loss: 1.8042 - val_acc: 0.4271\n",
      "Epoch 49/100\n",
      "1/1 [==============================] - 0s - loss: 1.8770 - acc: 0.5625 - val_loss: 1.7109 - val_acc: 0.4271\n",
      "Epoch 50/100\n",
      "1/1 [==============================] - 0s - loss: 2.0811 - acc: 0.1250 - val_loss: 1.7267 - val_acc: 0.4375\n",
      "Epoch 51/100\n",
      "1/1 [==============================] - 0s - loss: 1.4056 - acc: 0.5625 - val_loss: 1.8677 - val_acc: 0.3646\n",
      "Epoch 52/100\n",
      "1/1 [==============================] - 0s - loss: 1.9686 - acc: 0.3750 - val_loss: 1.7862 - val_acc: 0.4271\n",
      "Epoch 53/100\n",
      "1/1 [==============================] - 0s - loss: 2.0920 - acc: 0.1875 - val_loss: 1.8361 - val_acc: 0.3542\n",
      "Epoch 54/100\n",
      "1/1 [==============================] - 0s - loss: 1.4253 - acc: 0.5000 - val_loss: 1.7490 - val_acc: 0.4167\n",
      "Epoch 55/100\n",
      "1/1 [==============================] - 0s - loss: 1.5703 - acc: 0.4375 - val_loss: 1.7674 - val_acc: 0.4167\n",
      "Epoch 56/100\n",
      "1/1 [==============================] - 0s - loss: 2.2066 - acc: 0.1250 - val_loss: 1.7979 - val_acc: 0.4479\n",
      "Epoch 57/100\n",
      "1/1 [==============================] - 0s - loss: 1.6700 - acc: 0.2500 - val_loss: 1.6410 - val_acc: 0.4583\n",
      "Epoch 58/100\n",
      "1/1 [==============================] - 0s - loss: 1.1881 - acc: 0.6875 - val_loss: 1.9654 - val_acc: 0.3646\n",
      "Epoch 59/100\n",
      "1/1 [==============================] - 0s - loss: 1.4788 - acc: 0.3750 - val_loss: 1.8288 - val_acc: 0.3333\n",
      "Epoch 60/100\n",
      "1/1 [==============================] - 0s - loss: 1.4944 - acc: 0.3750 - val_loss: 1.5253 - val_acc: 0.4375\n",
      "Epoch 61/100\n",
      "1/1 [==============================] - 0s - loss: 1.1361 - acc: 0.5625 - val_loss: 1.8199 - val_acc: 0.3647\n",
      "Epoch 62/100\n",
      "1/1 [==============================] - 0s - loss: 1.7941 - acc: 0.3750 - val_loss: 1.9513 - val_acc: 0.2708\n",
      "Epoch 63/100\n",
      "1/1 [==============================] - 0s - loss: 1.5896 - acc: 0.3750 - val_loss: 1.7211 - val_acc: 0.4792\n",
      "Epoch 64/100\n",
      "1/1 [==============================] - 0s - loss: 1.7684 - acc: 0.3750 - val_loss: 1.6685 - val_acc: 0.4583\n",
      "Epoch 65/100\n",
      "1/1 [==============================] - 0s - loss: 1.4916 - acc: 0.5625 - val_loss: 2.0494 - val_acc: 0.3646\n",
      "Epoch 66/100\n",
      "1/1 [==============================] - 0s - loss: 1.4897 - acc: 0.3750 - val_loss: 1.8611 - val_acc: 0.3750\n",
      "Epoch 67/100\n",
      "1/1 [==============================] - 0s - loss: 1.4789 - acc: 0.4375 - val_loss: 1.8624 - val_acc: 0.3854\n",
      "Epoch 68/100\n",
      "1/1 [==============================] - 0s - loss: 1.6217 - acc: 0.5625 - val_loss: 2.0645 - val_acc: 0.4271\n",
      "Epoch 69/100\n",
      "1/1 [==============================] - 0s - loss: 1.8849 - acc: 0.2500 - val_loss: 1.9191 - val_acc: 0.4062\n",
      "Epoch 70/100\n",
      "1/1 [==============================] - 0s - loss: 2.1270 - acc: 0.2500 - val_loss: 1.5497 - val_acc: 0.5000\n",
      "Epoch 71/100\n",
      "1/1 [==============================] - 0s - loss: 1.4310 - acc: 0.5000 - val_loss: 2.0892 - val_acc: 0.3125\n",
      "Epoch 72/100\n",
      "1/1 [==============================] - 0s - loss: 1.5955 - acc: 0.3750 - val_loss: 1.7721 - val_acc: 0.4583\n",
      "Epoch 73/100\n",
      "1/1 [==============================] - 0s - loss: 1.9283 - acc: 0.4375 - val_loss: 2.1921 - val_acc: 0.3750\n",
      "Epoch 74/100\n",
      "1/1 [==============================] - 0s - loss: 2.0298 - acc: 0.2500 - val_loss: 2.0989 - val_acc: 0.4583\n",
      "Epoch 75/100\n",
      "1/1 [==============================] - 0s - loss: 1.7907 - acc: 0.5000 - val_loss: 2.1589 - val_acc: 0.4167\n",
      "Epoch 76/100\n",
      "1/1 [==============================] - 0s - loss: 1.4918 - acc: 0.5000 - val_loss: 2.2706 - val_acc: 0.3646\n",
      "Epoch 77/100\n",
      "1/1 [==============================] - 0s - loss: 1.0222 - acc: 0.6875 - val_loss: 2.1086 - val_acc: 0.3438\n",
      "Epoch 78/100\n",
      "1/1 [==============================] - 0s - loss: 1.8298 - acc: 0.3125 - val_loss: 1.9782 - val_acc: 0.3125\n",
      "Epoch 79/100\n",
      "1/1 [==============================] - 0s - loss: 2.1746 - acc: 0.3125 - val_loss: 2.1150 - val_acc: 0.3542\n",
      "Epoch 80/100\n",
      "1/1 [==============================] - 0s - loss: 2.1701 - acc: 0.2500 - val_loss: 2.1426 - val_acc: 0.3125\n",
      "Epoch 81/100\n",
      "1/1 [==============================] - 0s - loss: 2.1841 - acc: 0.3750 - val_loss: 2.1250 - val_acc: 0.2812\n",
      "Epoch 82/100\n",
      "1/1 [==============================] - 0s - loss: 1.7600 - acc: 0.3750 - val_loss: 1.9413 - val_acc: 0.3750\n",
      "Epoch 83/100\n",
      "1/1 [==============================] - 0s - loss: 1.2240 - acc: 0.5625 - val_loss: 2.0304 - val_acc: 0.3229\n",
      "Epoch 84/100\n",
      "1/1 [==============================] - 0s - loss: 1.4400 - acc: 0.5625 - val_loss: 2.0084 - val_acc: 0.3438\n",
      "Epoch 85/100\n",
      "1/1 [==============================] - 0s - loss: 1.8712 - acc: 0.3750 - val_loss: 2.0423 - val_acc: 0.2917\n",
      "Epoch 86/100\n",
      "1/1 [==============================] - 0s - loss: 1.5589 - acc: 0.4375 - val_loss: 2.2229 - val_acc: 0.3333\n",
      "Epoch 87/100\n",
      "1/1 [==============================] - 0s - loss: 1.6702 - acc: 0.2500 - val_loss: 2.2132 - val_acc: 0.3646\n",
      "Epoch 88/100\n",
      "1/1 [==============================] - 0s - loss: 1.9376 - acc: 0.3750 - val_loss: 2.1683 - val_acc: 0.3438\n",
      "Epoch 89/100\n",
      "1/1 [==============================] - 0s - loss: 1.7928 - acc: 0.4375 - val_loss: 1.8718 - val_acc: 0.4271\n",
      "Epoch 90/100\n",
      "1/1 [==============================] - 0s - loss: 1.7397 - acc: 0.4375 - val_loss: 1.7793 - val_acc: 0.4062\n",
      "Epoch 91/100\n",
      "1/1 [==============================] - 0s - loss: 2.0599 - acc: 0.3750 - val_loss: 1.9342 - val_acc: 0.3854\n",
      "Epoch 92/100\n",
      "1/1 [==============================] - 0s - loss: 1.4821 - acc: 0.5625 - val_loss: 1.9451 - val_acc: 0.3958\n",
      "Epoch 93/100\n",
      "1/1 [==============================] - 0s - loss: 1.9246 - acc: 0.3125 - val_loss: 1.9093 - val_acc: 0.3333\n",
      "Epoch 94/100\n",
      "1/1 [==============================] - 0s - loss: 1.5194 - acc: 0.5000 - val_loss: 1.9619 - val_acc: 0.3021\n",
      "Epoch 95/100\n",
      "1/1 [==============================] - 0s - loss: 1.8786 - acc: 0.2500 - val_loss: 2.3762 - val_acc: 0.2708\n",
      "Epoch 96/100\n",
      "1/1 [==============================] - 0s - loss: 1.3538 - acc: 0.5000 - val_loss: 2.0224 - val_acc: 0.3750\n",
      "Epoch 97/100\n",
      "1/1 [==============================] - 0s - loss: 1.5030 - acc: 0.2500 - val_loss: 1.9254 - val_acc: 0.2708\n",
      "Epoch 98/100\n",
      "1/1 [==============================] - 0s - loss: 1.2058 - acc: 0.7500 - val_loss: 1.8331 - val_acc: 0.4000\n",
      "Epoch 99/100\n",
      "1/1 [==============================] - 0s - loss: 1.2207 - acc: 0.5000 - val_loss: 2.2083 - val_acc: 0.3542\n",
      "Epoch 100/100\n",
      "1/1 [==============================] - 0s - loss: 1.5326 - acc: 0.3125 - val_loss: 2.0582 - val_acc: 0.4271\n"
     ]
    }
   ],
   "source": [
    "#tensorboard = TensorBoard(log_dir='./logs/cnn/' , histogram_freq=1, write_graph=True, write_images=False)\n",
    "\n",
    "batch_size = 128\n",
    "epoch = 100\n",
    "#class_weight = {0:1.0,1:1.0,2:1.0,3:2.182938620088743,4:1.0,5:1.0,6:1.0,7:1.4319240572082488}\n",
    "#class_weight = {0: 1.0, 1: 1.0, 2: 1.0, 3: 1.0, 4: 1.0, 5: 1.0, 6: 1.0, 7: 1.0}\n",
    "#class_weight = {0 : 0.33, 1:0.11 , 2: 0.25, 3:1 , 4:0.2, 5:0.33, 6:0.043 , 7:.5}\n",
    "\n",
    "history = model.fit_generator(\n",
    "            train_generator,\n",
    "            steps_per_epoch=batch_size // batch_size,\n",
    "            epochs=epoch,\n",
    "            validation_data=validation_generator,\n",
    "            #class_weight = class_weight,\n",
    "            validation_steps=800 // batch_size)"
   ]
  },
  {
   "cell_type": "code",
   "execution_count": 142,
   "metadata": {
    "collapsed": false,
    "deletable": true,
    "editable": true
   },
   "outputs": [
    {
     "name": "stdout",
     "output_type": "stream",
     "text": [
      "Found 3707 images belonging to 8 classes.\n",
      "The [loss, accuracy] of the evaluation are: [1.7768651336431502, 0.421875]\n"
     ]
    }
   ],
   "source": [
    "test_datagen = ImageDataGenerator(rescale=1./255)\n",
    "# this is a similar generator, for test data\n",
    "test_generator = test_datagen.flow_from_directory(\n",
    "        'data/test',\n",
    "        target_size=(192, 128),\n",
    "        batch_size=img_batch_size,\n",
    "        class_mode='categorical')\n",
    "\n",
    "results = model.evaluate_generator (\n",
    "            test_generator,\n",
    "            steps = 40,\n",
    "            max_q_size=10, \n",
    "            workers=1, \n",
    "            pickle_safe=False)\n",
    "\n",
    "print(\"The [loss, accuracy] of the evaluation are: \" + str(results))"
   ]
  },
  {
   "cell_type": "code",
   "execution_count": 143,
   "metadata": {
    "collapsed": false,
    "deletable": true,
    "editable": true
   },
   "outputs": [
    {
     "data": {
      "text/plain": [
       "<matplotlib.text.Text at 0x7ff466e4d940>"
      ]
     },
     "execution_count": 143,
     "metadata": {},
     "output_type": "execute_result"
    },
    {
     "data": {
      "image/png": "[encoded data removed]",
      "text/plain": [
       "<matplotlib.figure.Figure at 0x7ff46703f198>"
      ]
     },
     "metadata": {},
     "output_type": "display_data"
    }
   ],
   "source": [
    "plt.plot(history.history['acc'])\n",
    "plt.xlabel(\"epoch\")\n",
    "plt.ylabel(\"accuracy\")"
   ]
  },
  {
   "cell_type": "code",
   "execution_count": 144,
   "metadata": {
    "collapsed": false,
    "deletable": true,
    "editable": true
   },
   "outputs": [
    {
     "name": "stdout",
     "output_type": "stream",
     "text": [
      "37/38 [============================>.] - ETA: 0s\b\b\b\b\b\b\b\b\b\b\b\b\b\b\b\b\b\b\b\b\b\b\b\b\b\b\b\b\b\b\b\b\b\b\b\b\b\b\b\b\b\b\b\b\b\b\b\b\b\b\b\b\b\b\b\b\b\b\b\b\b\b\b\b\b\b\b\b\b\b\b\b\b\b\b\b\b\b\b\b\b\b\b\b\b\b\b\b\b\b\b\b\b\b\b\b\b\b\b\b\b\b\b\b\b\b\b\b\b\b\b\b\b\b\b\b\b\b\b\b\b\b\b\b\b\b\b\b\b\b\b\b\b\b\b\b\b\b\b\b\b\b\b\b\b\b\b\b\b\b\b\b\b\b\b\b\b\b\b\b\b\b\b\b\b\b\b\b\b\b\b\b\b\b\b\b\b\b\b\b\b\b\b\b\b\b\b\b\b\b\b\b\b\b\b\b\b\b\b\b\b\b\b\b\b\b\b\b\b\b\b\b\b\b\b\b\b\b\b\b\b\b\b\b\b\b\b\b\b\b\b\b\b\b\b\b\b\b\b\b\b\b\b\b\b\b\b\b\b\b\b\b\b\b\b\b\b\b\b\b\b\b\b\b\b\b\b\b\b\b\b\b\b\b\b\b\b\b\b\b\b\b\b\b\b\b\b\b\b\b\b\b\b\b\b\b\b\b\b\b\b\b\b\b\b\b\b\b\b\b\b\b\b\b\b\b\b\b\b\b\b\b\b\b\b\b\b\b\b\b\b\b\b\b\b\b\b\b\b\b\b\b\b\b\b\b\b\b\b\b\b\b\b\b\b\b\b\b\b\b\b\b\b\b\b\b\b\b\b\b\b\b\b\b\b\b\b\b\b\b\b\b\b\b\b\b\b\b\b\b\b\b\b\b\b\b\b\b\b\b\b\b\b\b\b\b\b\b\b\b\b\b\b\b\b\b\b\b\b\b\b\b\b\b\b\b\b\b\b\b\b\b\b\b\b\b\b\b\b\b\b\b\b\b\b\b\b\b\b\b\b\b\b\b\b\b\b\b\b\b\b\b\b\b\b\b\b\b\b\b\b\b\b\b\b\b\b\b\b\b\b\b\b\b\b\b\b\b\b\b\b\b\b\b\b\b\b\b\b\b\b\b\b\b\b\b\b\b\b\b\b\b\b\b\b\b\b\b\b\b\b\b\b\b\b\b\b\b\b\b\b\b\b\b\b\b\b\b\b\b\b\b\b\b\b\b\b\b\b\b\b\b\b\b\b\b\b\b\b\b\b\b\b\b\b\b\b\b\b\b\b\b\b\b\b\b\b\b\b\b\b\b\b\b\b\b\b\b\b\b\b\b\b\b\b\b\b\b\b\b\b\b\b\b\b\b\b\b\b\b\b\b\b\b\b\b\b\b\b\b\b\b\b\b\b\b\b\b\b\b\b\b\b\b\b\b\b\b\b\b\b\b\b\b\b\b\b\b\b\b\b\b\b\b\b\b\b\b\b\b\b\b\b\b\b\b\b\b\b\b\b\b\b\b\b\b\b\b\b\b\b\b\b\b\b\b\b\b\b\b\b\b\b\b\b\b\b\b\b\b\b\b\b\b\b\b\b\b\b\b\b\b\b\b\b\b\b\b\b\b\b\b\b\b\b\b\b\b\b\b\b\b\b\b\b\b\b\b\b\b\b\b\b\b\b\b\b\b\b\b\b\b\b\b\b\b\b\b\b\b\b\b\b\b\b\b\b\b\b\b\b\b\b\b\b\b\b\b\b\b\b\b\b\b\b\b\b\b\b\b\b\b\b\b\b\b\b\b\b\b\b\b\b\b\b\b\b\b\b\b\b\b\b\b\b\b\b\b\b\b\b\b\b\b\b\b\b\b\b\b\b\b\b\b\b\b\b\b\b\b\b\b\b\b\b\b\b\b\b\b\b\b\b\b\b\b\b\b\b\b\b\b\b\b"
     ]
    }
   ],
   "source": [
    "y_pred_prob = model.predict_generator(test_generator,\n",
    "                                      steps = 38,\n",
    "                                      verbose=1)"
   ]
  },
  {
   "cell_type": "code",
   "execution_count": 145,
   "metadata": {
    "collapsed": false,
    "deletable": true,
    "editable": true
   },
   "outputs": [
    {
     "data": {
      "text/plain": [
       "(608, 8)"
      ]
     },
     "execution_count": 145,
     "metadata": {},
     "output_type": "execute_result"
    }
   ],
   "source": [
    "y_pred_prob.shape"
   ]
  },
  {
   "cell_type": "code",
   "execution_count": 146,
   "metadata": {
    "collapsed": true,
    "deletable": true,
    "editable": true
   },
   "outputs": [],
   "source": [
    "# Function get classess of Non sequential model as print class function worked for sequential model onl\n",
    "def categorical_probas_to_classes(p):\n",
    "    return np.argmax(p, axis=1)\n",
    "\n",
    "def probas_to_classes(y_pred):\n",
    "    if len(y_pred.shape) > 1 and y_pred.shape[1] > 1:\n",
    "        return categorical_probas_to_classes(y_pred)\n",
    "    return np.array([1 if p > 0.5 else 0 for p in y_pred])"
   ]
  },
  {
   "cell_type": "code",
   "execution_count": 147,
   "metadata": {
    "collapsed": false,
    "deletable": true,
    "editable": true
   },
   "outputs": [],
   "source": [
    "y_pred = probas_to_classes(y_pred_prob)"
   ]
  },
  {
   "cell_type": "code",
   "execution_count": 148,
   "metadata": {
    "collapsed": false,
    "deletable": true,
    "editable": true
   },
   "outputs": [
    {
     "name": "stdout",
     "output_type": "stream",
     "text": [
      "[0 1 2 4 5 6]\n",
      "[  1  57   6  66   3 475]\n"
     ]
    }
   ],
   "source": [
    "u, unique_counts  = np.unique(y_pred, return_counts=True)\n",
    "print(u)\n",
    "print(unique_counts)"
   ]
  },
  {
   "cell_type": "code",
   "execution_count": null,
   "metadata": {
    "collapsed": true,
    "deletable": true,
    "editable": true
   },
   "outputs": [],
   "source": []
  }
 ],
 "metadata": {
  "kernelspec": {
   "display_name": "Python 3",
   "language": "python",
   "name": "python3"
  },
  "language_info": {
   "codemirror_mode": {
    "name": "ipython",
    "version": 3
   },
   "file_extension": ".py",
   "mimetype": "text/x-python",
   "name": "python",
   "nbconvert_exporter": "python",
   "pygments_lexer": "ipython3",
   "version": "3.5.2"
  }
 },
 "nbformat": 4,
 "nbformat_minor": 2
}
